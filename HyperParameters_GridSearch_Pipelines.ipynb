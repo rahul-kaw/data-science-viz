{
 "cells": [
  {
   "cell_type": "code",
   "execution_count": 1,
   "metadata": {},
   "outputs": [],
   "source": [
    "import pandas as pd\n",
    "import numpy as np\n",
    "from sklearn.pipeline import Pipeline\n",
    "from sklearn.preprocessing import StandardScaler\n",
    "from sklearn.neighbors import KNeighborsClassifier\n",
    "from sklearn.model_selection import GridSearchCV\n",
    "from sklearn.linear_model import LogisticRegression\n",
    "from sklearn.model_selection import train_test_split, cross_val_score\n",
    "\n",
    "from IPython.core.interactiveshell import InteractiveShell\n",
    "InteractiveShell.ast_node_interactivity = \"all\""
   ]
  },
  {
   "cell_type": "markdown",
   "metadata": {},
   "source": [
    "### Read in data ###"
   ]
  },
  {
   "cell_type": "code",
   "execution_count": 2,
   "metadata": {},
   "outputs": [],
   "source": [
    "df = pd.read_csv('./datasets/basketball_data.csv') "
   ]
  },
  {
   "cell_type": "code",
   "execution_count": 3,
   "metadata": {},
   "outputs": [
    {
     "data": {
      "text/html": [
       "<div>\n",
       "<style scoped>\n",
       "    .dataframe tbody tr th:only-of-type {\n",
       "        vertical-align: middle;\n",
       "    }\n",
       "\n",
       "    .dataframe tbody tr th {\n",
       "        vertical-align: top;\n",
       "    }\n",
       "\n",
       "    .dataframe thead th {\n",
       "        text-align: right;\n",
       "    }\n",
       "</style>\n",
       "<table border=\"1\" class=\"dataframe\">\n",
       "  <thead>\n",
       "    <tr style=\"text-align: right;\">\n",
       "      <th></th>\n",
       "      <th>Season</th>\n",
       "      <th>GameId</th>\n",
       "      <th>GameDate</th>\n",
       "      <th>GameTime</th>\n",
       "      <th>HostName</th>\n",
       "      <th>GuestName</th>\n",
       "      <th>total_score</th>\n",
       "      <th>total_line</th>\n",
       "      <th>game_line</th>\n",
       "      <th>Host_HostRank</th>\n",
       "      <th>...</th>\n",
       "      <th>gPTS_avg10</th>\n",
       "      <th>gTS%_avg10</th>\n",
       "      <th>g3PAR_avg10</th>\n",
       "      <th>gFTr_avg10</th>\n",
       "      <th>gDRB%_avg10</th>\n",
       "      <th>gTRB%_avg10</th>\n",
       "      <th>gAST%_avg10</th>\n",
       "      <th>gSTL%_avg10</th>\n",
       "      <th>gBLK%_avg10</th>\n",
       "      <th>gDRtg_avg10</th>\n",
       "    </tr>\n",
       "  </thead>\n",
       "  <tbody>\n",
       "    <tr>\n",
       "      <th>0</th>\n",
       "      <td>2013</td>\n",
       "      <td>201212090LAL</td>\n",
       "      <td>2012-12-09</td>\n",
       "      <td>6:30 pm</td>\n",
       "      <td>Los Angeles Lakers</td>\n",
       "      <td>Utah Jazz</td>\n",
       "      <td>227.0</td>\n",
       "      <td>207.5</td>\n",
       "      <td>7.5</td>\n",
       "      <td>13</td>\n",
       "      <td>...</td>\n",
       "      <td>99.0</td>\n",
       "      <td>0.5206</td>\n",
       "      <td>0.2230</td>\n",
       "      <td>0.2981</td>\n",
       "      <td>69.22</td>\n",
       "      <td>50.05</td>\n",
       "      <td>61.57</td>\n",
       "      <td>8.63</td>\n",
       "      <td>10.31</td>\n",
       "      <td>110.87</td>\n",
       "    </tr>\n",
       "    <tr>\n",
       "      <th>1</th>\n",
       "      <td>2013</td>\n",
       "      <td>201212100PHI</td>\n",
       "      <td>2012-12-10</td>\n",
       "      <td>7:00 pm</td>\n",
       "      <td>Philadelphia 76ers</td>\n",
       "      <td>Detroit Pistons</td>\n",
       "      <td>201.0</td>\n",
       "      <td>186.5</td>\n",
       "      <td>5.5</td>\n",
       "      <td>13</td>\n",
       "      <td>...</td>\n",
       "      <td>90.3</td>\n",
       "      <td>0.5077</td>\n",
       "      <td>0.2144</td>\n",
       "      <td>0.3095</td>\n",
       "      <td>71.46</td>\n",
       "      <td>49.48</td>\n",
       "      <td>59.83</td>\n",
       "      <td>6.48</td>\n",
       "      <td>9.46</td>\n",
       "      <td>107.91</td>\n",
       "    </tr>\n",
       "    <tr>\n",
       "      <th>2</th>\n",
       "      <td>2013</td>\n",
       "      <td>201212100HOU</td>\n",
       "      <td>2012-12-10</td>\n",
       "      <td>7:00 pm</td>\n",
       "      <td>Houston Rockets</td>\n",
       "      <td>San Antonio Spurs</td>\n",
       "      <td>240.0</td>\n",
       "      <td>212.0</td>\n",
       "      <td>-7.0</td>\n",
       "      <td>12</td>\n",
       "      <td>...</td>\n",
       "      <td>108.0</td>\n",
       "      <td>0.5915</td>\n",
       "      <td>0.2743</td>\n",
       "      <td>0.2518</td>\n",
       "      <td>74.26</td>\n",
       "      <td>50.99</td>\n",
       "      <td>61.82</td>\n",
       "      <td>8.30</td>\n",
       "      <td>6.85</td>\n",
       "      <td>101.41</td>\n",
       "    </tr>\n",
       "    <tr>\n",
       "      <th>3</th>\n",
       "      <td>2013</td>\n",
       "      <td>201212110BRK</td>\n",
       "      <td>2012-12-11</td>\n",
       "      <td>7:00 pm</td>\n",
       "      <td>Brooklyn Nets</td>\n",
       "      <td>New York Knicks</td>\n",
       "      <td>197.0</td>\n",
       "      <td>195.5</td>\n",
       "      <td>-3.5</td>\n",
       "      <td>12</td>\n",
       "      <td>...</td>\n",
       "      <td>100.3</td>\n",
       "      <td>0.5473</td>\n",
       "      <td>0.3595</td>\n",
       "      <td>0.2544</td>\n",
       "      <td>74.23</td>\n",
       "      <td>47.88</td>\n",
       "      <td>52.07</td>\n",
       "      <td>9.31</td>\n",
       "      <td>7.64</td>\n",
       "      <td>109.24</td>\n",
       "    </tr>\n",
       "    <tr>\n",
       "      <th>4</th>\n",
       "      <td>2013</td>\n",
       "      <td>201212110DET</td>\n",
       "      <td>2012-12-11</td>\n",
       "      <td>7:30 pm</td>\n",
       "      <td>Detroit Pistons</td>\n",
       "      <td>Denver Nuggets</td>\n",
       "      <td>195.0</td>\n",
       "      <td>203.5</td>\n",
       "      <td>-4.5</td>\n",
       "      <td>11</td>\n",
       "      <td>...</td>\n",
       "      <td>101.1</td>\n",
       "      <td>0.5605</td>\n",
       "      <td>0.2173</td>\n",
       "      <td>0.3177</td>\n",
       "      <td>68.45</td>\n",
       "      <td>50.40</td>\n",
       "      <td>56.33</td>\n",
       "      <td>7.67</td>\n",
       "      <td>7.83</td>\n",
       "      <td>114.86</td>\n",
       "    </tr>\n",
       "  </tbody>\n",
       "</table>\n",
       "<p>5 rows × 96 columns</p>\n",
       "</div>"
      ],
      "text/plain": [
       "   Season        GameId    GameDate GameTime            HostName  \\\n",
       "0    2013  201212090LAL  2012-12-09  6:30 pm  Los Angeles Lakers   \n",
       "1    2013  201212100PHI  2012-12-10  7:00 pm  Philadelphia 76ers   \n",
       "2    2013  201212100HOU  2012-12-10  7:00 pm     Houston Rockets   \n",
       "3    2013  201212110BRK  2012-12-11  7:00 pm       Brooklyn Nets   \n",
       "4    2013  201212110DET  2012-12-11  7:30 pm     Detroit Pistons   \n",
       "\n",
       "           GuestName  total_score  total_line  game_line  Host_HostRank  ...  \\\n",
       "0          Utah Jazz        227.0       207.5        7.5             13  ...   \n",
       "1    Detroit Pistons        201.0       186.5        5.5             13  ...   \n",
       "2  San Antonio Spurs        240.0       212.0       -7.0             12  ...   \n",
       "3    New York Knicks        197.0       195.5       -3.5             12  ...   \n",
       "4     Denver Nuggets        195.0       203.5       -4.5             11  ...   \n",
       "\n",
       "   gPTS_avg10  gTS%_avg10  g3PAR_avg10  gFTr_avg10  gDRB%_avg10  gTRB%_avg10  \\\n",
       "0        99.0      0.5206       0.2230      0.2981        69.22        50.05   \n",
       "1        90.3      0.5077       0.2144      0.3095        71.46        49.48   \n",
       "2       108.0      0.5915       0.2743      0.2518        74.26        50.99   \n",
       "3       100.3      0.5473       0.3595      0.2544        74.23        47.88   \n",
       "4       101.1      0.5605       0.2173      0.3177        68.45        50.40   \n",
       "\n",
       "   gAST%_avg10  gSTL%_avg10 gBLK%_avg10 gDRtg_avg10  \n",
       "0        61.57         8.63       10.31      110.87  \n",
       "1        59.83         6.48        9.46      107.91  \n",
       "2        61.82         8.30        6.85      101.41  \n",
       "3        52.07         9.31        7.64      109.24  \n",
       "4        56.33         7.67        7.83      114.86  \n",
       "\n",
       "[5 rows x 96 columns]"
      ]
     },
     "execution_count": 3,
     "metadata": {},
     "output_type": "execute_result"
    }
   ],
   "source": [
    "df.head()"
   ]
  },
  {
   "cell_type": "markdown",
   "metadata": {},
   "source": [
    "### Create a new column 'ishostwinner' as Y. 1 = host won the game, 0 = host lost the game"
   ]
  },
  {
   "cell_type": "code",
   "execution_count": 4,
   "metadata": {},
   "outputs": [
    {
     "data": {
      "text/plain": [
       "1    2239\n",
       "0    1529\n",
       "Name: ishostwinner, dtype: int64"
      ]
     },
     "execution_count": 4,
     "metadata": {},
     "output_type": "execute_result"
    }
   ],
   "source": [
    "df['ishostwinner'] = np.where(df['winner'] == df['HostName'],1,0)\n",
    "df['ishostwinner'].value_counts()"
   ]
  },
  {
   "cell_type": "code",
   "execution_count": 5,
   "metadata": {},
   "outputs": [
    {
     "data": {
      "text/html": [
       "<div>\n",
       "<style scoped>\n",
       "    .dataframe tbody tr th:only-of-type {\n",
       "        vertical-align: middle;\n",
       "    }\n",
       "\n",
       "    .dataframe tbody tr th {\n",
       "        vertical-align: top;\n",
       "    }\n",
       "\n",
       "    .dataframe thead th {\n",
       "        text-align: right;\n",
       "    }\n",
       "</style>\n",
       "<table border=\"1\" class=\"dataframe\">\n",
       "  <thead>\n",
       "    <tr style=\"text-align: right;\">\n",
       "      <th></th>\n",
       "      <th>Season</th>\n",
       "      <th>GameId</th>\n",
       "      <th>GameDate</th>\n",
       "      <th>GameTime</th>\n",
       "      <th>HostName</th>\n",
       "      <th>GuestName</th>\n",
       "      <th>total_score</th>\n",
       "      <th>total_line</th>\n",
       "      <th>game_line</th>\n",
       "      <th>Host_HostRank</th>\n",
       "      <th>...</th>\n",
       "      <th>gTS%_avg10</th>\n",
       "      <th>g3PAR_avg10</th>\n",
       "      <th>gFTr_avg10</th>\n",
       "      <th>gDRB%_avg10</th>\n",
       "      <th>gTRB%_avg10</th>\n",
       "      <th>gAST%_avg10</th>\n",
       "      <th>gSTL%_avg10</th>\n",
       "      <th>gBLK%_avg10</th>\n",
       "      <th>gDRtg_avg10</th>\n",
       "      <th>ishostwinner</th>\n",
       "    </tr>\n",
       "  </thead>\n",
       "  <tbody>\n",
       "    <tr>\n",
       "      <th>0</th>\n",
       "      <td>2013</td>\n",
       "      <td>201212090LAL</td>\n",
       "      <td>2012-12-09</td>\n",
       "      <td>6:30 pm</td>\n",
       "      <td>Los Angeles Lakers</td>\n",
       "      <td>Utah Jazz</td>\n",
       "      <td>227.0</td>\n",
       "      <td>207.5</td>\n",
       "      <td>7.5</td>\n",
       "      <td>13</td>\n",
       "      <td>...</td>\n",
       "      <td>0.5206</td>\n",
       "      <td>0.2230</td>\n",
       "      <td>0.2981</td>\n",
       "      <td>69.22</td>\n",
       "      <td>50.05</td>\n",
       "      <td>61.57</td>\n",
       "      <td>8.63</td>\n",
       "      <td>10.31</td>\n",
       "      <td>110.87</td>\n",
       "      <td>0</td>\n",
       "    </tr>\n",
       "    <tr>\n",
       "      <th>1</th>\n",
       "      <td>2013</td>\n",
       "      <td>201212100PHI</td>\n",
       "      <td>2012-12-10</td>\n",
       "      <td>7:00 pm</td>\n",
       "      <td>Philadelphia 76ers</td>\n",
       "      <td>Detroit Pistons</td>\n",
       "      <td>201.0</td>\n",
       "      <td>186.5</td>\n",
       "      <td>5.5</td>\n",
       "      <td>13</td>\n",
       "      <td>...</td>\n",
       "      <td>0.5077</td>\n",
       "      <td>0.2144</td>\n",
       "      <td>0.3095</td>\n",
       "      <td>71.46</td>\n",
       "      <td>49.48</td>\n",
       "      <td>59.83</td>\n",
       "      <td>6.48</td>\n",
       "      <td>9.46</td>\n",
       "      <td>107.91</td>\n",
       "      <td>1</td>\n",
       "    </tr>\n",
       "    <tr>\n",
       "      <th>2</th>\n",
       "      <td>2013</td>\n",
       "      <td>201212100HOU</td>\n",
       "      <td>2012-12-10</td>\n",
       "      <td>7:00 pm</td>\n",
       "      <td>Houston Rockets</td>\n",
       "      <td>San Antonio Spurs</td>\n",
       "      <td>240.0</td>\n",
       "      <td>212.0</td>\n",
       "      <td>-7.0</td>\n",
       "      <td>12</td>\n",
       "      <td>...</td>\n",
       "      <td>0.5915</td>\n",
       "      <td>0.2743</td>\n",
       "      <td>0.2518</td>\n",
       "      <td>74.26</td>\n",
       "      <td>50.99</td>\n",
       "      <td>61.82</td>\n",
       "      <td>8.30</td>\n",
       "      <td>6.85</td>\n",
       "      <td>101.41</td>\n",
       "      <td>0</td>\n",
       "    </tr>\n",
       "    <tr>\n",
       "      <th>3</th>\n",
       "      <td>2013</td>\n",
       "      <td>201212110BRK</td>\n",
       "      <td>2012-12-11</td>\n",
       "      <td>7:00 pm</td>\n",
       "      <td>Brooklyn Nets</td>\n",
       "      <td>New York Knicks</td>\n",
       "      <td>197.0</td>\n",
       "      <td>195.5</td>\n",
       "      <td>-3.5</td>\n",
       "      <td>12</td>\n",
       "      <td>...</td>\n",
       "      <td>0.5473</td>\n",
       "      <td>0.3595</td>\n",
       "      <td>0.2544</td>\n",
       "      <td>74.23</td>\n",
       "      <td>47.88</td>\n",
       "      <td>52.07</td>\n",
       "      <td>9.31</td>\n",
       "      <td>7.64</td>\n",
       "      <td>109.24</td>\n",
       "      <td>0</td>\n",
       "    </tr>\n",
       "    <tr>\n",
       "      <th>4</th>\n",
       "      <td>2013</td>\n",
       "      <td>201212110DET</td>\n",
       "      <td>2012-12-11</td>\n",
       "      <td>7:30 pm</td>\n",
       "      <td>Detroit Pistons</td>\n",
       "      <td>Denver Nuggets</td>\n",
       "      <td>195.0</td>\n",
       "      <td>203.5</td>\n",
       "      <td>-4.5</td>\n",
       "      <td>11</td>\n",
       "      <td>...</td>\n",
       "      <td>0.5605</td>\n",
       "      <td>0.2173</td>\n",
       "      <td>0.3177</td>\n",
       "      <td>68.45</td>\n",
       "      <td>50.40</td>\n",
       "      <td>56.33</td>\n",
       "      <td>7.67</td>\n",
       "      <td>7.83</td>\n",
       "      <td>114.86</td>\n",
       "      <td>0</td>\n",
       "    </tr>\n",
       "  </tbody>\n",
       "</table>\n",
       "<p>5 rows × 97 columns</p>\n",
       "</div>"
      ],
      "text/plain": [
       "   Season        GameId    GameDate GameTime            HostName  \\\n",
       "0    2013  201212090LAL  2012-12-09  6:30 pm  Los Angeles Lakers   \n",
       "1    2013  201212100PHI  2012-12-10  7:00 pm  Philadelphia 76ers   \n",
       "2    2013  201212100HOU  2012-12-10  7:00 pm     Houston Rockets   \n",
       "3    2013  201212110BRK  2012-12-11  7:00 pm       Brooklyn Nets   \n",
       "4    2013  201212110DET  2012-12-11  7:30 pm     Detroit Pistons   \n",
       "\n",
       "           GuestName  total_score  total_line  game_line  Host_HostRank  ...  \\\n",
       "0          Utah Jazz        227.0       207.5        7.5             13  ...   \n",
       "1    Detroit Pistons        201.0       186.5        5.5             13  ...   \n",
       "2  San Antonio Spurs        240.0       212.0       -7.0             12  ...   \n",
       "3    New York Knicks        197.0       195.5       -3.5             12  ...   \n",
       "4     Denver Nuggets        195.0       203.5       -4.5             11  ...   \n",
       "\n",
       "   gTS%_avg10  g3PAR_avg10  gFTr_avg10  gDRB%_avg10  gTRB%_avg10  gAST%_avg10  \\\n",
       "0      0.5206       0.2230      0.2981        69.22        50.05        61.57   \n",
       "1      0.5077       0.2144      0.3095        71.46        49.48        59.83   \n",
       "2      0.5915       0.2743      0.2518        74.26        50.99        61.82   \n",
       "3      0.5473       0.3595      0.2544        74.23        47.88        52.07   \n",
       "4      0.5605       0.2173      0.3177        68.45        50.40        56.33   \n",
       "\n",
       "   gSTL%_avg10  gBLK%_avg10 gDRtg_avg10 ishostwinner  \n",
       "0         8.63        10.31      110.87            0  \n",
       "1         6.48         9.46      107.91            1  \n",
       "2         8.30         6.85      101.41            0  \n",
       "3         9.31         7.64      109.24            0  \n",
       "4         7.67         7.83      114.86            0  \n",
       "\n",
       "[5 rows x 97 columns]"
      ]
     },
     "execution_count": 5,
     "metadata": {},
     "output_type": "execute_result"
    }
   ],
   "source": [
    "df.head()"
   ]
  },
  {
   "cell_type": "markdown",
   "metadata": {},
   "source": [
    "### For sake of simplicity in this example we are dropping all non-numeric columns"
   ]
  },
  {
   "cell_type": "code",
   "execution_count": 6,
   "metadata": {},
   "outputs": [],
   "source": [
    "drop_cols = [k for k in df.columns if df.dtypes[k] == 'O']\n",
    "df.drop(columns = drop_cols,inplace=True)"
   ]
  },
  {
   "cell_type": "markdown",
   "metadata": {},
   "source": [
    "### Create X and y. Then train_test_split X and y"
   ]
  },
  {
   "cell_type": "code",
   "execution_count": 7,
   "metadata": {},
   "outputs": [],
   "source": [
    "X = df.copy()\n",
    "X = X.drop(columns=['ishostwinner','Season'])\n",
    "y = df['ishostwinner']"
   ]
  },
  {
   "cell_type": "code",
   "execution_count": 8,
   "metadata": {
    "tags": []
   },
   "outputs": [],
   "source": [
    "X_train,X_test,y_train,y_test = train_test_split(X,y,test_size=0.3,random_state=42)"
   ]
  },
  {
   "cell_type": "markdown",
   "metadata": {},
   "source": [
    "### Scale X data since we are using a KNN classifier ###\n",
    "### First we model without using GridSearch or HyperParameter pipelines ###"
   ]
  },
  {
   "cell_type": "code",
   "execution_count": 9,
   "metadata": {},
   "outputs": [],
   "source": [
    "std_scaler = StandardScaler()\n",
    "X_train_scaled = std_scaler.fit_transform(X_train) \n",
    "X_test_scaled = std_scaler.fit_transform(X_test)"
   ]
  },
  {
   "cell_type": "code",
   "execution_count": 10,
   "metadata": {},
   "outputs": [
    {
     "data": {
      "text/plain": [
       "array([[-0.70580279, -0.57551591, -0.94951828, ..., -0.04655966,\n",
       "        -0.82102005,  0.18404964],\n",
       "       [ 0.6777531 ,  0.82956272, -0.57873793, ...,  1.37156587,\n",
       "        -0.44639853,  1.2592102 ],\n",
       "       [ 0.94382155, -0.47515315,  0.8302274 , ...,  1.12130842,\n",
       "        -1.25705492, -0.85908485],\n",
       "       ...,\n",
       "       [ 0.30525729,  0.07684202,  0.60775919, ...,  0.78763183,\n",
       "        -1.84048188, -2.30940781],\n",
       "       [-0.01402484, -0.47515315,  1.12685168, ...,  0.01410881,\n",
       "         1.72149319, -1.19764605],\n",
       "       [-0.43973435,  0.67901858, -1.24614256, ...,  0.48428947,\n",
       "        -0.64906263, -1.29143665]])"
      ]
     },
     "execution_count": 10,
     "metadata": {},
     "output_type": "execute_result"
    }
   ],
   "source": [
    "X_train_scaled"
   ]
  },
  {
   "cell_type": "code",
   "execution_count": 11,
   "metadata": {},
   "outputs": [
    {
     "data": {
      "text/plain": [
       "KNeighborsClassifier(n_neighbors=7)"
      ]
     },
     "execution_count": 11,
     "metadata": {},
     "output_type": "execute_result"
    }
   ],
   "source": [
    "knn = KNeighborsClassifier(n_neighbors=7)\n",
    "knn.fit(X_train_scaled,y_train)"
   ]
  },
  {
   "cell_type": "code",
   "execution_count": 12,
   "metadata": {},
   "outputs": [
    {
     "data": {
      "text/plain": [
       "0.7364429275692075"
      ]
     },
     "execution_count": 12,
     "metadata": {},
     "output_type": "execute_result"
    },
    {
     "data": {
      "text/plain": [
       "0.6206896551724138"
      ]
     },
     "execution_count": 12,
     "metadata": {},
     "output_type": "execute_result"
    },
    {
     "data": {
      "text/plain": [
       "0.6731133864239667"
      ]
     },
     "execution_count": 12,
     "metadata": {},
     "output_type": "execute_result"
    },
    {
     "data": {
      "text/plain": [
       "0.6534040671971706"
      ]
     },
     "execution_count": 12,
     "metadata": {},
     "output_type": "execute_result"
    }
   ],
   "source": [
    "knn.score(X_train_scaled,y_train)\n",
    "knn.score(X_test_scaled,y_test)\n",
    "\n",
    "knn.score(X_train,y_train)\n",
    "knn.score(X_test,y_test)"
   ]
  },
  {
   "cell_type": "markdown",
   "metadata": {},
   "source": [
    "### Use GridSearchCV to search over specified parameters for the estimator (in this case KNNeighborsClassifier) ###"
   ]
  },
  {
   "cell_type": "code",
   "execution_count": 13,
   "metadata": {},
   "outputs": [],
   "source": [
    "# Create a dictionary of parameters that will be used for GridSearch\n",
    "knn_params = {'n_neighbors': np.arange(1, 51, 10),'metric': ['euclidean', 'manhattan']}\n",
    "\n",
    "#Instantiate a GridSearch object using KNN as estimator, estimator parameters to be grid search, number of cross fold validations\n",
    "knn_grid_search = GridSearchCV(KNeighborsClassifier(),knn_params,cv=5,verbose=1,scoring='accuracy')\n"
   ]
  },
  {
   "cell_type": "code",
   "execution_count": 14,
   "metadata": {},
   "outputs": [
    {
     "name": "stdout",
     "output_type": "stream",
     "text": [
      "Fitting 5 folds for each of 10 candidates, totalling 50 fits\n"
     ]
    },
    {
     "data": {
      "text/plain": [
       "GridSearchCV(cv=5, estimator=KNeighborsClassifier(),\n",
       "             param_grid={'metric': ['euclidean', 'manhattan'],\n",
       "                         'n_neighbors': array([ 1, 11, 21, 31, 41])},\n",
       "             scoring='accuracy', verbose=1)"
      ]
     },
     "execution_count": 14,
     "metadata": {},
     "output_type": "execute_result"
    }
   ],
   "source": [
    "knn_grid_search.fit(X_train_scaled,y_train)"
   ]
  },
  {
   "cell_type": "code",
   "execution_count": 15,
   "metadata": {},
   "outputs": [
    {
     "data": {
      "text/plain": [
       "KNeighborsClassifier(metric='manhattan', n_neighbors=41)"
      ]
     },
     "execution_count": 15,
     "metadata": {},
     "output_type": "execute_result"
    },
    {
     "data": {
      "text/plain": [
       "0.650366568914956"
      ]
     },
     "execution_count": 15,
     "metadata": {},
     "output_type": "execute_result"
    },
    {
     "data": {
      "text/plain": [
       "{'metric': 'manhattan', 'n_neighbors': 41}"
      ]
     },
     "execution_count": 15,
     "metadata": {},
     "output_type": "execute_result"
    }
   ],
   "source": [
    "# GridSearch attributes\n",
    "knn_grid_search.best_estimator_\n",
    "knn_grid_search.best_score_\n",
    "knn_grid_search.best_params_"
   ]
  },
  {
   "cell_type": "code",
   "execution_count": 16,
   "metadata": {},
   "outputs": [
    {
     "data": {
      "text/plain": [
       "0.671971706454465"
      ]
     },
     "execution_count": 16,
     "metadata": {},
     "output_type": "execute_result"
    },
    {
     "data": {
      "text/plain": [
       "0.6803185437997725"
      ]
     },
     "execution_count": 16,
     "metadata": {},
     "output_type": "execute_result"
    },
    {
     "data": {
      "text/plain": [
       "792"
      ]
     },
     "execution_count": 16,
     "metadata": {},
     "output_type": "execute_result"
    }
   ],
   "source": [
    "#Score (accuracy score) of the model on train and test data\n",
    "knn_grid_search.score(X_test_scaled,y_test)\n",
    "knn_grid_search.score(X_train_scaled,y_train)\n",
    "\n",
    "#Generate Y predictions \n",
    "predict_class = knn_grid_search.predict(X_test_scaled)\n",
    "np.count_nonzero(predict_class)"
   ]
  },
  {
   "cell_type": "markdown",
   "metadata": {},
   "source": [
    "### Create a pipeline to chain transformers and estimator. Can have only one estimator and must be specified last."
   ]
  },
  {
   "cell_type": "code",
   "execution_count": 17,
   "metadata": {},
   "outputs": [],
   "source": [
    "pipeline = Pipeline([('ss',StandardScaler()),\n",
    "                     ('lreg',LogisticRegression(max_iter = 3000))\n",
    "                      ])"
   ]
  },
  {
   "cell_type": "code",
   "execution_count": 18,
   "metadata": {},
   "outputs": [
    {
     "data": {
      "text/plain": [
       "Pipeline(steps=[('ss', StandardScaler()),\n",
       "                ('lreg', LogisticRegression(max_iter=3000))])"
      ]
     },
     "execution_count": 18,
     "metadata": {},
     "output_type": "execute_result"
    }
   ],
   "source": [
    "pipeline.fit(X_train,y_train)"
   ]
  },
  {
   "cell_type": "code",
   "execution_count": 19,
   "metadata": {},
   "outputs": [
    {
     "data": {
      "text/plain": [
       "0.6931918656056587"
      ]
     },
     "execution_count": 19,
     "metadata": {},
     "output_type": "execute_result"
    },
    {
     "data": {
      "text/plain": [
       "0.7034508911642018"
      ]
     },
     "execution_count": 19,
     "metadata": {},
     "output_type": "execute_result"
    }
   ],
   "source": [
    "pipeline.score(X_test,y_test)\n",
    "pipeline.score(X_train,y_train)"
   ]
  },
  {
   "cell_type": "code",
   "execution_count": 20,
   "metadata": {},
   "outputs": [
    {
     "data": {
      "text/plain": [
       "[('ss', StandardScaler()), ('lreg', LogisticRegression(max_iter=3000))]"
      ]
     },
     "execution_count": 20,
     "metadata": {},
     "output_type": "execute_result"
    }
   ],
   "source": [
    "pipeline.steps"
   ]
  },
  {
   "cell_type": "code",
   "execution_count": 21,
   "metadata": {},
   "outputs": [
    {
     "data": {
      "text/plain": [
       "792"
      ]
     },
     "execution_count": 21,
     "metadata": {},
     "output_type": "execute_result"
    }
   ],
   "source": [
    "pipe_predict_class = pipeline.predict(X_test)\n",
    "np.count_nonzero(predict_class)"
   ]
  },
  {
   "cell_type": "markdown",
   "metadata": {},
   "source": [
    "### Pipeline with GridSearch ###"
   ]
  },
  {
   "cell_type": "code",
   "execution_count": 22,
   "metadata": {},
   "outputs": [],
   "source": [
    "logreg_params = { 'ss__with_mean': [True,False],\n",
    "                 'ss__with_std': [True,False] ,\n",
    "                 'lreg__solver':['liblinear','lbfgs'],\n",
    "                 'lreg__penalty':['l2']\n",
    "                 }\n",
    "\n",
    "logreg_gridsearch = GridSearchCV(pipeline,logreg_params,cv=5,verbose=1,scoring='accuracy')\n"
   ]
  },
  {
   "cell_type": "code",
   "execution_count": 23,
   "metadata": {},
   "outputs": [
    {
     "name": "stdout",
     "output_type": "stream",
     "text": [
      "Fitting 5 folds for each of 8 candidates, totalling 40 fits\n"
     ]
    },
    {
     "data": {
      "text/plain": [
       "GridSearchCV(cv=5,\n",
       "             estimator=Pipeline(steps=[('ss', StandardScaler()),\n",
       "                                       ('lreg',\n",
       "                                        LogisticRegression(max_iter=3000))]),\n",
       "             param_grid={'lreg__penalty': ['l2'],\n",
       "                         'lreg__solver': ['liblinear', 'lbfgs'],\n",
       "                         'ss__with_mean': [True, False],\n",
       "                         'ss__with_std': [True, False]},\n",
       "             scoring='accuracy', verbose=1)"
      ]
     },
     "execution_count": 23,
     "metadata": {},
     "output_type": "execute_result"
    }
   ],
   "source": [
    "logreg_gridsearch.fit(X_train,y_train)"
   ]
  },
  {
   "cell_type": "code",
   "execution_count": 24,
   "metadata": {},
   "outputs": [
    {
     "data": {
      "text/plain": [
       "0.7034508911642018"
      ]
     },
     "execution_count": 24,
     "metadata": {},
     "output_type": "execute_result"
    },
    {
     "data": {
      "text/plain": [
       "0.6940760389036251"
      ]
     },
     "execution_count": 24,
     "metadata": {},
     "output_type": "execute_result"
    },
    {
     "data": {
      "text/plain": [
       "757"
      ]
     },
     "execution_count": 24,
     "metadata": {},
     "output_type": "execute_result"
    }
   ],
   "source": [
    "logreg_gridsearch.score(X_train,y_train)\n",
    "logreg_gridsearch.score(X_test,y_test)\n",
    "\n",
    "np.count_nonzero(logreg_gridsearch.predict(X_test))"
   ]
  },
  {
   "cell_type": "code",
   "execution_count": 25,
   "metadata": {},
   "outputs": [
    {
     "data": {
      "text/plain": [
       "Pipeline(steps=[('ss', StandardScaler(with_mean=False)),\n",
       "                ('lreg', LogisticRegression(max_iter=3000))])"
      ]
     },
     "execution_count": 25,
     "metadata": {},
     "output_type": "execute_result"
    },
    {
     "data": {
      "text/plain": [
       "0.6845034788108791"
      ]
     },
     "execution_count": 25,
     "metadata": {},
     "output_type": "execute_result"
    }
   ],
   "source": [
    "logreg_gridsearch.best_estimator_\n",
    "logreg_gridsearch.best_score_"
   ]
  },
  {
   "cell_type": "code",
   "execution_count": 26,
   "metadata": {},
   "outputs": [],
   "source": [
    "cvresults_df = pd.DataFrame(logreg_gridsearch.cv_results_)"
   ]
  },
  {
   "cell_type": "code",
   "execution_count": 27,
   "metadata": {},
   "outputs": [
    {
     "data": {
      "text/html": [
       "<div>\n",
       "<style scoped>\n",
       "    .dataframe tbody tr th:only-of-type {\n",
       "        vertical-align: middle;\n",
       "    }\n",
       "\n",
       "    .dataframe tbody tr th {\n",
       "        vertical-align: top;\n",
       "    }\n",
       "\n",
       "    .dataframe thead th {\n",
       "        text-align: right;\n",
       "    }\n",
       "</style>\n",
       "<table border=\"1\" class=\"dataframe\">\n",
       "  <thead>\n",
       "    <tr style=\"text-align: right;\">\n",
       "      <th></th>\n",
       "      <th>mean_fit_time</th>\n",
       "      <th>std_fit_time</th>\n",
       "      <th>mean_score_time</th>\n",
       "      <th>std_score_time</th>\n",
       "      <th>param_lreg__penalty</th>\n",
       "      <th>param_lreg__solver</th>\n",
       "      <th>param_ss__with_mean</th>\n",
       "      <th>param_ss__with_std</th>\n",
       "      <th>params</th>\n",
       "      <th>split0_test_score</th>\n",
       "      <th>split1_test_score</th>\n",
       "      <th>split2_test_score</th>\n",
       "      <th>split3_test_score</th>\n",
       "      <th>split4_test_score</th>\n",
       "      <th>mean_test_score</th>\n",
       "      <th>std_test_score</th>\n",
       "      <th>rank_test_score</th>\n",
       "    </tr>\n",
       "  </thead>\n",
       "  <tbody>\n",
       "    <tr>\n",
       "      <th>0</th>\n",
       "      <td>0.069763</td>\n",
       "      <td>0.007927</td>\n",
       "      <td>0.002264</td>\n",
       "      <td>0.000150</td>\n",
       "      <td>l2</td>\n",
       "      <td>liblinear</td>\n",
       "      <td>True</td>\n",
       "      <td>True</td>\n",
       "      <td>{'lreg__penalty': 'l2', 'lreg__solver': 'libli...</td>\n",
       "      <td>0.657197</td>\n",
       "      <td>0.672348</td>\n",
       "      <td>0.669829</td>\n",
       "      <td>0.700190</td>\n",
       "      <td>0.711575</td>\n",
       "      <td>0.682228</td>\n",
       "      <td>0.020306</td>\n",
       "      <td>3</td>\n",
       "    </tr>\n",
       "    <tr>\n",
       "      <th>1</th>\n",
       "      <td>0.162799</td>\n",
       "      <td>0.014318</td>\n",
       "      <td>0.002455</td>\n",
       "      <td>0.000278</td>\n",
       "      <td>l2</td>\n",
       "      <td>liblinear</td>\n",
       "      <td>True</td>\n",
       "      <td>False</td>\n",
       "      <td>{'lreg__penalty': 'l2', 'lreg__solver': 'libli...</td>\n",
       "      <td>0.664773</td>\n",
       "      <td>0.676136</td>\n",
       "      <td>0.669829</td>\n",
       "      <td>0.692600</td>\n",
       "      <td>0.702087</td>\n",
       "      <td>0.681085</td>\n",
       "      <td>0.014078</td>\n",
       "      <td>6</td>\n",
       "    </tr>\n",
       "    <tr>\n",
       "      <th>2</th>\n",
       "      <td>0.075783</td>\n",
       "      <td>0.001882</td>\n",
       "      <td>0.002281</td>\n",
       "      <td>0.000145</td>\n",
       "      <td>l2</td>\n",
       "      <td>liblinear</td>\n",
       "      <td>False</td>\n",
       "      <td>True</td>\n",
       "      <td>{'lreg__penalty': 'l2', 'lreg__solver': 'libli...</td>\n",
       "      <td>0.657197</td>\n",
       "      <td>0.674242</td>\n",
       "      <td>0.669829</td>\n",
       "      <td>0.703985</td>\n",
       "      <td>0.715370</td>\n",
       "      <td>0.684125</td>\n",
       "      <td>0.021899</td>\n",
       "      <td>2</td>\n",
       "    </tr>\n",
       "    <tr>\n",
       "      <th>3</th>\n",
       "      <td>0.172224</td>\n",
       "      <td>0.010254</td>\n",
       "      <td>0.002266</td>\n",
       "      <td>0.000294</td>\n",
       "      <td>l2</td>\n",
       "      <td>liblinear</td>\n",
       "      <td>False</td>\n",
       "      <td>False</td>\n",
       "      <td>{'lreg__penalty': 'l2', 'lreg__solver': 'libli...</td>\n",
       "      <td>0.659091</td>\n",
       "      <td>0.674242</td>\n",
       "      <td>0.671727</td>\n",
       "      <td>0.696395</td>\n",
       "      <td>0.705882</td>\n",
       "      <td>0.681467</td>\n",
       "      <td>0.017127</td>\n",
       "      <td>5</td>\n",
       "    </tr>\n",
       "    <tr>\n",
       "      <th>4</th>\n",
       "      <td>0.053389</td>\n",
       "      <td>0.004822</td>\n",
       "      <td>0.002095</td>\n",
       "      <td>0.000067</td>\n",
       "      <td>l2</td>\n",
       "      <td>lbfgs</td>\n",
       "      <td>True</td>\n",
       "      <td>True</td>\n",
       "      <td>{'lreg__penalty': 'l2', 'lreg__solver': 'lbfgs...</td>\n",
       "      <td>0.657197</td>\n",
       "      <td>0.672348</td>\n",
       "      <td>0.669829</td>\n",
       "      <td>0.700190</td>\n",
       "      <td>0.711575</td>\n",
       "      <td>0.682228</td>\n",
       "      <td>0.020306</td>\n",
       "      <td>3</td>\n",
       "    </tr>\n",
       "    <tr>\n",
       "      <th>5</th>\n",
       "      <td>0.249138</td>\n",
       "      <td>0.020477</td>\n",
       "      <td>0.002173</td>\n",
       "      <td>0.000152</td>\n",
       "      <td>l2</td>\n",
       "      <td>lbfgs</td>\n",
       "      <td>True</td>\n",
       "      <td>False</td>\n",
       "      <td>{'lreg__penalty': 'l2', 'lreg__solver': 'lbfgs...</td>\n",
       "      <td>0.664773</td>\n",
       "      <td>0.676136</td>\n",
       "      <td>0.669829</td>\n",
       "      <td>0.692600</td>\n",
       "      <td>0.702087</td>\n",
       "      <td>0.681085</td>\n",
       "      <td>0.014078</td>\n",
       "      <td>6</td>\n",
       "    </tr>\n",
       "    <tr>\n",
       "      <th>6</th>\n",
       "      <td>0.284457</td>\n",
       "      <td>0.024361</td>\n",
       "      <td>0.002319</td>\n",
       "      <td>0.000319</td>\n",
       "      <td>l2</td>\n",
       "      <td>lbfgs</td>\n",
       "      <td>False</td>\n",
       "      <td>True</td>\n",
       "      <td>{'lreg__penalty': 'l2', 'lreg__solver': 'lbfgs...</td>\n",
       "      <td>0.659091</td>\n",
       "      <td>0.674242</td>\n",
       "      <td>0.669829</td>\n",
       "      <td>0.703985</td>\n",
       "      <td>0.715370</td>\n",
       "      <td>0.684503</td>\n",
       "      <td>0.021441</td>\n",
       "      <td>1</td>\n",
       "    </tr>\n",
       "    <tr>\n",
       "      <th>7</th>\n",
       "      <td>0.882047</td>\n",
       "      <td>0.044844</td>\n",
       "      <td>0.002138</td>\n",
       "      <td>0.000126</td>\n",
       "      <td>l2</td>\n",
       "      <td>lbfgs</td>\n",
       "      <td>False</td>\n",
       "      <td>False</td>\n",
       "      <td>{'lreg__penalty': 'l2', 'lreg__solver': 'lbfgs...</td>\n",
       "      <td>0.659091</td>\n",
       "      <td>0.672348</td>\n",
       "      <td>0.666034</td>\n",
       "      <td>0.694497</td>\n",
       "      <td>0.709677</td>\n",
       "      <td>0.680330</td>\n",
       "      <td>0.018874</td>\n",
       "      <td>8</td>\n",
       "    </tr>\n",
       "  </tbody>\n",
       "</table>\n",
       "</div>"
      ],
      "text/plain": [
       "   mean_fit_time  std_fit_time  mean_score_time  std_score_time  \\\n",
       "0       0.069763      0.007927         0.002264        0.000150   \n",
       "1       0.162799      0.014318         0.002455        0.000278   \n",
       "2       0.075783      0.001882         0.002281        0.000145   \n",
       "3       0.172224      0.010254         0.002266        0.000294   \n",
       "4       0.053389      0.004822         0.002095        0.000067   \n",
       "5       0.249138      0.020477         0.002173        0.000152   \n",
       "6       0.284457      0.024361         0.002319        0.000319   \n",
       "7       0.882047      0.044844         0.002138        0.000126   \n",
       "\n",
       "  param_lreg__penalty param_lreg__solver param_ss__with_mean  \\\n",
       "0                  l2          liblinear                True   \n",
       "1                  l2          liblinear                True   \n",
       "2                  l2          liblinear               False   \n",
       "3                  l2          liblinear               False   \n",
       "4                  l2              lbfgs                True   \n",
       "5                  l2              lbfgs                True   \n",
       "6                  l2              lbfgs               False   \n",
       "7                  l2              lbfgs               False   \n",
       "\n",
       "  param_ss__with_std                                             params  \\\n",
       "0               True  {'lreg__penalty': 'l2', 'lreg__solver': 'libli...   \n",
       "1              False  {'lreg__penalty': 'l2', 'lreg__solver': 'libli...   \n",
       "2               True  {'lreg__penalty': 'l2', 'lreg__solver': 'libli...   \n",
       "3              False  {'lreg__penalty': 'l2', 'lreg__solver': 'libli...   \n",
       "4               True  {'lreg__penalty': 'l2', 'lreg__solver': 'lbfgs...   \n",
       "5              False  {'lreg__penalty': 'l2', 'lreg__solver': 'lbfgs...   \n",
       "6               True  {'lreg__penalty': 'l2', 'lreg__solver': 'lbfgs...   \n",
       "7              False  {'lreg__penalty': 'l2', 'lreg__solver': 'lbfgs...   \n",
       "\n",
       "   split0_test_score  split1_test_score  split2_test_score  split3_test_score  \\\n",
       "0           0.657197           0.672348           0.669829           0.700190   \n",
       "1           0.664773           0.676136           0.669829           0.692600   \n",
       "2           0.657197           0.674242           0.669829           0.703985   \n",
       "3           0.659091           0.674242           0.671727           0.696395   \n",
       "4           0.657197           0.672348           0.669829           0.700190   \n",
       "5           0.664773           0.676136           0.669829           0.692600   \n",
       "6           0.659091           0.674242           0.669829           0.703985   \n",
       "7           0.659091           0.672348           0.666034           0.694497   \n",
       "\n",
       "   split4_test_score  mean_test_score  std_test_score  rank_test_score  \n",
       "0           0.711575         0.682228        0.020306                3  \n",
       "1           0.702087         0.681085        0.014078                6  \n",
       "2           0.715370         0.684125        0.021899                2  \n",
       "3           0.705882         0.681467        0.017127                5  \n",
       "4           0.711575         0.682228        0.020306                3  \n",
       "5           0.702087         0.681085        0.014078                6  \n",
       "6           0.715370         0.684503        0.021441                1  \n",
       "7           0.709677         0.680330        0.018874                8  "
      ]
     },
     "execution_count": 27,
     "metadata": {},
     "output_type": "execute_result"
    }
   ],
   "source": [
    "cvresults_df"
   ]
  },
  {
   "cell_type": "code",
   "execution_count": 28,
   "metadata": {},
   "outputs": [],
   "source": [
    "import chart_studio as cst\n",
    "import plotly as py\n",
    "import plotly.graph_objs as go\n",
    "from plotly.offline import iplot,download_plotlyjs, init_notebook_mode"
   ]
  },
  {
   "cell_type": "code",
   "execution_count": 29,
   "metadata": {},
   "outputs": [],
   "source": [
    "text_list = list(\n",
    "    zip(\n",
    "        'Test score: ' + cvresults_df.mean_test_score.round(4).apply(str),\n",
    "        'Fit time: ' + cvresults_df.mean_fit_time.round(4).apply(str),\n",
    "        'Solver: ' + cvresults_df.param_lreg__solver\n",
    "    )\n",
    ")\n",
    "text = ['<br>'.join(t) for t in text_list]\n",
    "cvresults_df['text'] = text"
   ]
  },
  {
   "cell_type": "code",
   "execution_count": 30,
   "metadata": {},
   "outputs": [
    {
     "data": {
      "text/html": [
       "<div>\n",
       "<style scoped>\n",
       "    .dataframe tbody tr th:only-of-type {\n",
       "        vertical-align: middle;\n",
       "    }\n",
       "\n",
       "    .dataframe tbody tr th {\n",
       "        vertical-align: top;\n",
       "    }\n",
       "\n",
       "    .dataframe thead th {\n",
       "        text-align: right;\n",
       "    }\n",
       "</style>\n",
       "<table border=\"1\" class=\"dataframe\">\n",
       "  <thead>\n",
       "    <tr style=\"text-align: right;\">\n",
       "      <th></th>\n",
       "      <th>mean_fit_time</th>\n",
       "      <th>std_fit_time</th>\n",
       "      <th>mean_score_time</th>\n",
       "      <th>std_score_time</th>\n",
       "      <th>param_lreg__penalty</th>\n",
       "      <th>param_lreg__solver</th>\n",
       "      <th>param_ss__with_mean</th>\n",
       "      <th>param_ss__with_std</th>\n",
       "      <th>params</th>\n",
       "      <th>split0_test_score</th>\n",
       "      <th>split1_test_score</th>\n",
       "      <th>split2_test_score</th>\n",
       "      <th>split3_test_score</th>\n",
       "      <th>split4_test_score</th>\n",
       "      <th>mean_test_score</th>\n",
       "      <th>std_test_score</th>\n",
       "      <th>rank_test_score</th>\n",
       "      <th>text</th>\n",
       "    </tr>\n",
       "  </thead>\n",
       "  <tbody>\n",
       "    <tr>\n",
       "      <th>0</th>\n",
       "      <td>0.069763</td>\n",
       "      <td>0.007927</td>\n",
       "      <td>0.002264</td>\n",
       "      <td>0.000150</td>\n",
       "      <td>l2</td>\n",
       "      <td>liblinear</td>\n",
       "      <td>True</td>\n",
       "      <td>True</td>\n",
       "      <td>{'lreg__penalty': 'l2', 'lreg__solver': 'libli...</td>\n",
       "      <td>0.657197</td>\n",
       "      <td>0.672348</td>\n",
       "      <td>0.669829</td>\n",
       "      <td>0.700190</td>\n",
       "      <td>0.711575</td>\n",
       "      <td>0.682228</td>\n",
       "      <td>0.020306</td>\n",
       "      <td>3</td>\n",
       "      <td>Test score: 0.6822&lt;br&gt;Fit time: 0.0698&lt;br&gt;Solv...</td>\n",
       "    </tr>\n",
       "    <tr>\n",
       "      <th>1</th>\n",
       "      <td>0.162799</td>\n",
       "      <td>0.014318</td>\n",
       "      <td>0.002455</td>\n",
       "      <td>0.000278</td>\n",
       "      <td>l2</td>\n",
       "      <td>liblinear</td>\n",
       "      <td>True</td>\n",
       "      <td>False</td>\n",
       "      <td>{'lreg__penalty': 'l2', 'lreg__solver': 'libli...</td>\n",
       "      <td>0.664773</td>\n",
       "      <td>0.676136</td>\n",
       "      <td>0.669829</td>\n",
       "      <td>0.692600</td>\n",
       "      <td>0.702087</td>\n",
       "      <td>0.681085</td>\n",
       "      <td>0.014078</td>\n",
       "      <td>6</td>\n",
       "      <td>Test score: 0.6811&lt;br&gt;Fit time: 0.1628&lt;br&gt;Solv...</td>\n",
       "    </tr>\n",
       "    <tr>\n",
       "      <th>2</th>\n",
       "      <td>0.075783</td>\n",
       "      <td>0.001882</td>\n",
       "      <td>0.002281</td>\n",
       "      <td>0.000145</td>\n",
       "      <td>l2</td>\n",
       "      <td>liblinear</td>\n",
       "      <td>False</td>\n",
       "      <td>True</td>\n",
       "      <td>{'lreg__penalty': 'l2', 'lreg__solver': 'libli...</td>\n",
       "      <td>0.657197</td>\n",
       "      <td>0.674242</td>\n",
       "      <td>0.669829</td>\n",
       "      <td>0.703985</td>\n",
       "      <td>0.715370</td>\n",
       "      <td>0.684125</td>\n",
       "      <td>0.021899</td>\n",
       "      <td>2</td>\n",
       "      <td>Test score: 0.6841&lt;br&gt;Fit time: 0.0758&lt;br&gt;Solv...</td>\n",
       "    </tr>\n",
       "    <tr>\n",
       "      <th>3</th>\n",
       "      <td>0.172224</td>\n",
       "      <td>0.010254</td>\n",
       "      <td>0.002266</td>\n",
       "      <td>0.000294</td>\n",
       "      <td>l2</td>\n",
       "      <td>liblinear</td>\n",
       "      <td>False</td>\n",
       "      <td>False</td>\n",
       "      <td>{'lreg__penalty': 'l2', 'lreg__solver': 'libli...</td>\n",
       "      <td>0.659091</td>\n",
       "      <td>0.674242</td>\n",
       "      <td>0.671727</td>\n",
       "      <td>0.696395</td>\n",
       "      <td>0.705882</td>\n",
       "      <td>0.681467</td>\n",
       "      <td>0.017127</td>\n",
       "      <td>5</td>\n",
       "      <td>Test score: 0.6815&lt;br&gt;Fit time: 0.1722&lt;br&gt;Solv...</td>\n",
       "    </tr>\n",
       "    <tr>\n",
       "      <th>4</th>\n",
       "      <td>0.053389</td>\n",
       "      <td>0.004822</td>\n",
       "      <td>0.002095</td>\n",
       "      <td>0.000067</td>\n",
       "      <td>l2</td>\n",
       "      <td>lbfgs</td>\n",
       "      <td>True</td>\n",
       "      <td>True</td>\n",
       "      <td>{'lreg__penalty': 'l2', 'lreg__solver': 'lbfgs...</td>\n",
       "      <td>0.657197</td>\n",
       "      <td>0.672348</td>\n",
       "      <td>0.669829</td>\n",
       "      <td>0.700190</td>\n",
       "      <td>0.711575</td>\n",
       "      <td>0.682228</td>\n",
       "      <td>0.020306</td>\n",
       "      <td>3</td>\n",
       "      <td>Test score: 0.6822&lt;br&gt;Fit time: 0.0534&lt;br&gt;Solv...</td>\n",
       "    </tr>\n",
       "    <tr>\n",
       "      <th>5</th>\n",
       "      <td>0.249138</td>\n",
       "      <td>0.020477</td>\n",
       "      <td>0.002173</td>\n",
       "      <td>0.000152</td>\n",
       "      <td>l2</td>\n",
       "      <td>lbfgs</td>\n",
       "      <td>True</td>\n",
       "      <td>False</td>\n",
       "      <td>{'lreg__penalty': 'l2', 'lreg__solver': 'lbfgs...</td>\n",
       "      <td>0.664773</td>\n",
       "      <td>0.676136</td>\n",
       "      <td>0.669829</td>\n",
       "      <td>0.692600</td>\n",
       "      <td>0.702087</td>\n",
       "      <td>0.681085</td>\n",
       "      <td>0.014078</td>\n",
       "      <td>6</td>\n",
       "      <td>Test score: 0.6811&lt;br&gt;Fit time: 0.2491&lt;br&gt;Solv...</td>\n",
       "    </tr>\n",
       "    <tr>\n",
       "      <th>6</th>\n",
       "      <td>0.284457</td>\n",
       "      <td>0.024361</td>\n",
       "      <td>0.002319</td>\n",
       "      <td>0.000319</td>\n",
       "      <td>l2</td>\n",
       "      <td>lbfgs</td>\n",
       "      <td>False</td>\n",
       "      <td>True</td>\n",
       "      <td>{'lreg__penalty': 'l2', 'lreg__solver': 'lbfgs...</td>\n",
       "      <td>0.659091</td>\n",
       "      <td>0.674242</td>\n",
       "      <td>0.669829</td>\n",
       "      <td>0.703985</td>\n",
       "      <td>0.715370</td>\n",
       "      <td>0.684503</td>\n",
       "      <td>0.021441</td>\n",
       "      <td>1</td>\n",
       "      <td>Test score: 0.6845&lt;br&gt;Fit time: 0.2845&lt;br&gt;Solv...</td>\n",
       "    </tr>\n",
       "    <tr>\n",
       "      <th>7</th>\n",
       "      <td>0.882047</td>\n",
       "      <td>0.044844</td>\n",
       "      <td>0.002138</td>\n",
       "      <td>0.000126</td>\n",
       "      <td>l2</td>\n",
       "      <td>lbfgs</td>\n",
       "      <td>False</td>\n",
       "      <td>False</td>\n",
       "      <td>{'lreg__penalty': 'l2', 'lreg__solver': 'lbfgs...</td>\n",
       "      <td>0.659091</td>\n",
       "      <td>0.672348</td>\n",
       "      <td>0.666034</td>\n",
       "      <td>0.694497</td>\n",
       "      <td>0.709677</td>\n",
       "      <td>0.680330</td>\n",
       "      <td>0.018874</td>\n",
       "      <td>8</td>\n",
       "      <td>Test score: 0.6803&lt;br&gt;Fit time: 0.882&lt;br&gt;Solve...</td>\n",
       "    </tr>\n",
       "  </tbody>\n",
       "</table>\n",
       "</div>"
      ],
      "text/plain": [
       "   mean_fit_time  std_fit_time  mean_score_time  std_score_time  \\\n",
       "0       0.069763      0.007927         0.002264        0.000150   \n",
       "1       0.162799      0.014318         0.002455        0.000278   \n",
       "2       0.075783      0.001882         0.002281        0.000145   \n",
       "3       0.172224      0.010254         0.002266        0.000294   \n",
       "4       0.053389      0.004822         0.002095        0.000067   \n",
       "5       0.249138      0.020477         0.002173        0.000152   \n",
       "6       0.284457      0.024361         0.002319        0.000319   \n",
       "7       0.882047      0.044844         0.002138        0.000126   \n",
       "\n",
       "  param_lreg__penalty param_lreg__solver param_ss__with_mean  \\\n",
       "0                  l2          liblinear                True   \n",
       "1                  l2          liblinear                True   \n",
       "2                  l2          liblinear               False   \n",
       "3                  l2          liblinear               False   \n",
       "4                  l2              lbfgs                True   \n",
       "5                  l2              lbfgs                True   \n",
       "6                  l2              lbfgs               False   \n",
       "7                  l2              lbfgs               False   \n",
       "\n",
       "  param_ss__with_std                                             params  \\\n",
       "0               True  {'lreg__penalty': 'l2', 'lreg__solver': 'libli...   \n",
       "1              False  {'lreg__penalty': 'l2', 'lreg__solver': 'libli...   \n",
       "2               True  {'lreg__penalty': 'l2', 'lreg__solver': 'libli...   \n",
       "3              False  {'lreg__penalty': 'l2', 'lreg__solver': 'libli...   \n",
       "4               True  {'lreg__penalty': 'l2', 'lreg__solver': 'lbfgs...   \n",
       "5              False  {'lreg__penalty': 'l2', 'lreg__solver': 'lbfgs...   \n",
       "6               True  {'lreg__penalty': 'l2', 'lreg__solver': 'lbfgs...   \n",
       "7              False  {'lreg__penalty': 'l2', 'lreg__solver': 'lbfgs...   \n",
       "\n",
       "   split0_test_score  split1_test_score  split2_test_score  split3_test_score  \\\n",
       "0           0.657197           0.672348           0.669829           0.700190   \n",
       "1           0.664773           0.676136           0.669829           0.692600   \n",
       "2           0.657197           0.674242           0.669829           0.703985   \n",
       "3           0.659091           0.674242           0.671727           0.696395   \n",
       "4           0.657197           0.672348           0.669829           0.700190   \n",
       "5           0.664773           0.676136           0.669829           0.692600   \n",
       "6           0.659091           0.674242           0.669829           0.703985   \n",
       "7           0.659091           0.672348           0.666034           0.694497   \n",
       "\n",
       "   split4_test_score  mean_test_score  std_test_score  rank_test_score  \\\n",
       "0           0.711575         0.682228        0.020306                3   \n",
       "1           0.702087         0.681085        0.014078                6   \n",
       "2           0.715370         0.684125        0.021899                2   \n",
       "3           0.705882         0.681467        0.017127                5   \n",
       "4           0.711575         0.682228        0.020306                3   \n",
       "5           0.702087         0.681085        0.014078                6   \n",
       "6           0.715370         0.684503        0.021441                1   \n",
       "7           0.709677         0.680330        0.018874                8   \n",
       "\n",
       "                                                text  \n",
       "0  Test score: 0.6822<br>Fit time: 0.0698<br>Solv...  \n",
       "1  Test score: 0.6811<br>Fit time: 0.1628<br>Solv...  \n",
       "2  Test score: 0.6841<br>Fit time: 0.0758<br>Solv...  \n",
       "3  Test score: 0.6815<br>Fit time: 0.1722<br>Solv...  \n",
       "4  Test score: 0.6822<br>Fit time: 0.0534<br>Solv...  \n",
       "5  Test score: 0.6811<br>Fit time: 0.2491<br>Solv...  \n",
       "6  Test score: 0.6845<br>Fit time: 0.2845<br>Solv...  \n",
       "7  Test score: 0.6803<br>Fit time: 0.882<br>Solve...  "
      ]
     },
     "execution_count": 30,
     "metadata": {},
     "output_type": "execute_result"
    }
   ],
   "source": [
    "cvresults_df"
   ]
  },
  {
   "cell_type": "code",
   "execution_count": 42,
   "metadata": {},
   "outputs": [
    {
     "data": {
      "image/svg+xml": [
       "<svg class=\"main-svg\" xmlns=\"http://www.w3.org/2000/svg\" xmlns:xlink=\"http://www.w3.org/1999/xlink\" width=\"1200\" height=\"600\" style=\"\" viewBox=\"0 0 1200 600\"><rect x=\"0\" y=\"0\" width=\"1200\" height=\"600\" style=\"fill: rgb(255, 255, 255); fill-opacity: 1;\"/><defs id=\"defs-af91b3\"><g class=\"clips\"/><g class=\"gradients\"/></defs><g class=\"bglayer\"/><g class=\"layer-below\"><g class=\"imagelayer\"/><g class=\"shapelayer\"/></g><g class=\"cartesianlayer\"/><g class=\"polarlayer\"/><g class=\"ternarylayer\"/><g class=\"geolayer\"/><g class=\"funnelarealayer\"/><g class=\"pielayer\"/><g class=\"treemaplayer\"/><g class=\"sunburstlayer\"/><g class=\"glimages\"><image xmlns=\"http://www.w3.org/2000/svg\" xlink:href=\"data:image/png;base64,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\" x=\"30\" y=\"30\" width=\"1140\" height=\"540\" preserveAspectRatio=\"none\"/></g><defs id=\"topdefs-af91b3\"><g class=\"clips\"/></defs><g class=\"layer-above\"><g class=\"imagelayer\"/><g class=\"shapelayer\"/></g><g class=\"infolayer\"><g class=\"g-gtitle\"><text class=\"gtitle\" x=\"60\" y=\"15\" text-anchor=\"start\" dy=\"0em\" style=\"font-family: 'Open Sans', verdana, arial, sans-serif; font-size: 17px; fill: rgb(42, 63, 95); opacity: 1; font-weight: normal; white-space: pre;\">3D visualization of the grid search results</text></g></g></svg>"
      ]
     },
     "metadata": {},
     "output_type": "display_data"
    },
    {
     "data": {
      "application/vnd.plotly.v1+json": {
       "config": {
        "linkText": "Export to plot.ly",
        "plotlyServerURL": "https://plot.ly",
        "showLink": false
       },
       "data": [
        {
         "hoverinfo": "text",
         "marker": {
          "color": "mediumslateblue",
          "opacity": 1,
          "size": 5
         },
         "mode": "markers",
         "text": [
          "Test score: 0.6822<br>Fit time: 0.0698<br>Solver: liblinear",
          "Test score: 0.6811<br>Fit time: 0.1628<br>Solver: liblinear",
          "Test score: 0.6841<br>Fit time: 0.0758<br>Solver: liblinear",
          "Test score: 0.6815<br>Fit time: 0.1722<br>Solver: liblinear",
          "Test score: 0.6822<br>Fit time: 0.0534<br>Solver: lbfgs",
          "Test score: 0.6811<br>Fit time: 0.2491<br>Solver: lbfgs",
          "Test score: 0.6845<br>Fit time: 0.2845<br>Solver: lbfgs",
          "Test score: 0.6803<br>Fit time: 0.882<br>Solver: lbfgs"
         ],
         "type": "scatter3d",
         "x": [
          0.6822278764878386,
          0.6810850439882697,
          0.6841246909320914,
          0.6814674256799493,
          0.6822278764878386,
          0.6810850439882697,
          0.6845034788108791,
          0.680329624518429
         ],
         "y": [
          "liblinear",
          "liblinear",
          "liblinear",
          "liblinear",
          "lbfgs",
          "lbfgs",
          "lbfgs",
          "lbfgs"
         ],
         "z": [
          0.06976261138916015,
          0.16279892921447753,
          0.07578301429748535,
          0.17222399711608888,
          0.05338859558105469,
          0.2491380214691162,
          0.2844566345214844,
          0.8820469856262207
         ]
        }
       ],
       "layout": {
        "height": 700,
        "margin": {
         "b": 30,
         "l": 30,
         "r": 30,
         "t": 30
        },
        "scene": {
         "aspectmode": "auto",
         "aspectratio": {
          "x": 1,
          "y": 1,
          "z": 1
         },
         "xaxis": {
          "nticks": 10,
          "title": {
           "text": "mean_test_score"
          },
          "type": "linear"
         },
         "yaxis": {
          "nticks": 10,
          "title": {
           "text": "param_lreg__solver"
          },
          "type": "category"
         },
         "zaxis": {
          "nticks": 10,
          "title": {
           "text": "mean_fit_time"
          },
          "type": "linear"
         }
        },
        "template": {
         "data": {
          "bar": [
           {
            "error_x": {
             "color": "#2a3f5f"
            },
            "error_y": {
             "color": "#2a3f5f"
            },
            "marker": {
             "line": {
              "color": "#E5ECF6",
              "width": 0.5
             }
            },
            "type": "bar"
           }
          ],
          "barpolar": [
           {
            "marker": {
             "line": {
              "color": "#E5ECF6",
              "width": 0.5
             }
            },
            "type": "barpolar"
           }
          ],
          "carpet": [
           {
            "aaxis": {
             "endlinecolor": "#2a3f5f",
             "gridcolor": "white",
             "linecolor": "white",
             "minorgridcolor": "white",
             "startlinecolor": "#2a3f5f"
            },
            "baxis": {
             "endlinecolor": "#2a3f5f",
             "gridcolor": "white",
             "linecolor": "white",
             "minorgridcolor": "white",
             "startlinecolor": "#2a3f5f"
            },
            "type": "carpet"
           }
          ],
          "choropleth": [
           {
            "colorbar": {
             "outlinewidth": 0,
             "ticks": ""
            },
            "type": "choropleth"
           }
          ],
          "contour": [
           {
            "colorbar": {
             "outlinewidth": 0,
             "ticks": ""
            },
            "colorscale": [
             [
              0,
              "#0d0887"
             ],
             [
              0.1111111111111111,
              "#46039f"
             ],
             [
              0.2222222222222222,
              "#7201a8"
             ],
             [
              0.3333333333333333,
              "#9c179e"
             ],
             [
              0.4444444444444444,
              "#bd3786"
             ],
             [
              0.5555555555555556,
              "#d8576b"
             ],
             [
              0.6666666666666666,
              "#ed7953"
             ],
             [
              0.7777777777777778,
              "#fb9f3a"
             ],
             [
              0.8888888888888888,
              "#fdca26"
             ],
             [
              1,
              "#f0f921"
             ]
            ],
            "type": "contour"
           }
          ],
          "contourcarpet": [
           {
            "colorbar": {
             "outlinewidth": 0,
             "ticks": ""
            },
            "type": "contourcarpet"
           }
          ],
          "heatmap": [
           {
            "colorbar": {
             "outlinewidth": 0,
             "ticks": ""
            },
            "colorscale": [
             [
              0,
              "#0d0887"
             ],
             [
              0.1111111111111111,
              "#46039f"
             ],
             [
              0.2222222222222222,
              "#7201a8"
             ],
             [
              0.3333333333333333,
              "#9c179e"
             ],
             [
              0.4444444444444444,
              "#bd3786"
             ],
             [
              0.5555555555555556,
              "#d8576b"
             ],
             [
              0.6666666666666666,
              "#ed7953"
             ],
             [
              0.7777777777777778,
              "#fb9f3a"
             ],
             [
              0.8888888888888888,
              "#fdca26"
             ],
             [
              1,
              "#f0f921"
             ]
            ],
            "type": "heatmap"
           }
          ],
          "heatmapgl": [
           {
            "colorbar": {
             "outlinewidth": 0,
             "ticks": ""
            },
            "colorscale": [
             [
              0,
              "#0d0887"
             ],
             [
              0.1111111111111111,
              "#46039f"
             ],
             [
              0.2222222222222222,
              "#7201a8"
             ],
             [
              0.3333333333333333,
              "#9c179e"
             ],
             [
              0.4444444444444444,
              "#bd3786"
             ],
             [
              0.5555555555555556,
              "#d8576b"
             ],
             [
              0.6666666666666666,
              "#ed7953"
             ],
             [
              0.7777777777777778,
              "#fb9f3a"
             ],
             [
              0.8888888888888888,
              "#fdca26"
             ],
             [
              1,
              "#f0f921"
             ]
            ],
            "type": "heatmapgl"
           }
          ],
          "histogram": [
           {
            "marker": {
             "colorbar": {
              "outlinewidth": 0,
              "ticks": ""
             }
            },
            "type": "histogram"
           }
          ],
          "histogram2d": [
           {
            "colorbar": {
             "outlinewidth": 0,
             "ticks": ""
            },
            "colorscale": [
             [
              0,
              "#0d0887"
             ],
             [
              0.1111111111111111,
              "#46039f"
             ],
             [
              0.2222222222222222,
              "#7201a8"
             ],
             [
              0.3333333333333333,
              "#9c179e"
             ],
             [
              0.4444444444444444,
              "#bd3786"
             ],
             [
              0.5555555555555556,
              "#d8576b"
             ],
             [
              0.6666666666666666,
              "#ed7953"
             ],
             [
              0.7777777777777778,
              "#fb9f3a"
             ],
             [
              0.8888888888888888,
              "#fdca26"
             ],
             [
              1,
              "#f0f921"
             ]
            ],
            "type": "histogram2d"
           }
          ],
          "histogram2dcontour": [
           {
            "colorbar": {
             "outlinewidth": 0,
             "ticks": ""
            },
            "colorscale": [
             [
              0,
              "#0d0887"
             ],
             [
              0.1111111111111111,
              "#46039f"
             ],
             [
              0.2222222222222222,
              "#7201a8"
             ],
             [
              0.3333333333333333,
              "#9c179e"
             ],
             [
              0.4444444444444444,
              "#bd3786"
             ],
             [
              0.5555555555555556,
              "#d8576b"
             ],
             [
              0.6666666666666666,
              "#ed7953"
             ],
             [
              0.7777777777777778,
              "#fb9f3a"
             ],
             [
              0.8888888888888888,
              "#fdca26"
             ],
             [
              1,
              "#f0f921"
             ]
            ],
            "type": "histogram2dcontour"
           }
          ],
          "mesh3d": [
           {
            "colorbar": {
             "outlinewidth": 0,
             "ticks": ""
            },
            "type": "mesh3d"
           }
          ],
          "parcoords": [
           {
            "line": {
             "colorbar": {
              "outlinewidth": 0,
              "ticks": ""
             }
            },
            "type": "parcoords"
           }
          ],
          "pie": [
           {
            "automargin": true,
            "type": "pie"
           }
          ],
          "scatter": [
           {
            "marker": {
             "colorbar": {
              "outlinewidth": 0,
              "ticks": ""
             }
            },
            "type": "scatter"
           }
          ],
          "scatter3d": [
           {
            "line": {
             "colorbar": {
              "outlinewidth": 0,
              "ticks": ""
             }
            },
            "marker": {
             "colorbar": {
              "outlinewidth": 0,
              "ticks": ""
             }
            },
            "type": "scatter3d"
           }
          ],
          "scattercarpet": [
           {
            "marker": {
             "colorbar": {
              "outlinewidth": 0,
              "ticks": ""
             }
            },
            "type": "scattercarpet"
           }
          ],
          "scattergeo": [
           {
            "marker": {
             "colorbar": {
              "outlinewidth": 0,
              "ticks": ""
             }
            },
            "type": "scattergeo"
           }
          ],
          "scattergl": [
           {
            "marker": {
             "colorbar": {
              "outlinewidth": 0,
              "ticks": ""
             }
            },
            "type": "scattergl"
           }
          ],
          "scattermapbox": [
           {
            "marker": {
             "colorbar": {
              "outlinewidth": 0,
              "ticks": ""
             }
            },
            "type": "scattermapbox"
           }
          ],
          "scatterpolar": [
           {
            "marker": {
             "colorbar": {
              "outlinewidth": 0,
              "ticks": ""
             }
            },
            "type": "scatterpolar"
           }
          ],
          "scatterpolargl": [
           {
            "marker": {
             "colorbar": {
              "outlinewidth": 0,
              "ticks": ""
             }
            },
            "type": "scatterpolargl"
           }
          ],
          "scatterternary": [
           {
            "marker": {
             "colorbar": {
              "outlinewidth": 0,
              "ticks": ""
             }
            },
            "type": "scatterternary"
           }
          ],
          "surface": [
           {
            "colorbar": {
             "outlinewidth": 0,
             "ticks": ""
            },
            "colorscale": [
             [
              0,
              "#0d0887"
             ],
             [
              0.1111111111111111,
              "#46039f"
             ],
             [
              0.2222222222222222,
              "#7201a8"
             ],
             [
              0.3333333333333333,
              "#9c179e"
             ],
             [
              0.4444444444444444,
              "#bd3786"
             ],
             [
              0.5555555555555556,
              "#d8576b"
             ],
             [
              0.6666666666666666,
              "#ed7953"
             ],
             [
              0.7777777777777778,
              "#fb9f3a"
             ],
             [
              0.8888888888888888,
              "#fdca26"
             ],
             [
              1,
              "#f0f921"
             ]
            ],
            "type": "surface"
           }
          ],
          "table": [
           {
            "cells": {
             "fill": {
              "color": "#EBF0F8"
             },
             "line": {
              "color": "white"
             }
            },
            "header": {
             "fill": {
              "color": "#C8D4E3"
             },
             "line": {
              "color": "white"
             }
            },
            "type": "table"
           }
          ]
         },
         "layout": {
          "annotationdefaults": {
           "arrowcolor": "#2a3f5f",
           "arrowhead": 0,
           "arrowwidth": 1
          },
          "autotypenumbers": "strict",
          "coloraxis": {
           "colorbar": {
            "outlinewidth": 0,
            "ticks": ""
           }
          },
          "colorscale": {
           "diverging": [
            [
             0,
             "#8e0152"
            ],
            [
             0.1,
             "#c51b7d"
            ],
            [
             0.2,
             "#de77ae"
            ],
            [
             0.3,
             "#f1b6da"
            ],
            [
             0.4,
             "#fde0ef"
            ],
            [
             0.5,
             "#f7f7f7"
            ],
            [
             0.6,
             "#e6f5d0"
            ],
            [
             0.7,
             "#b8e186"
            ],
            [
             0.8,
             "#7fbc41"
            ],
            [
             0.9,
             "#4d9221"
            ],
            [
             1,
             "#276419"
            ]
           ],
           "sequential": [
            [
             0,
             "#0d0887"
            ],
            [
             0.1111111111111111,
             "#46039f"
            ],
            [
             0.2222222222222222,
             "#7201a8"
            ],
            [
             0.3333333333333333,
             "#9c179e"
            ],
            [
             0.4444444444444444,
             "#bd3786"
            ],
            [
             0.5555555555555556,
             "#d8576b"
            ],
            [
             0.6666666666666666,
             "#ed7953"
            ],
            [
             0.7777777777777778,
             "#fb9f3a"
            ],
            [
             0.8888888888888888,
             "#fdca26"
            ],
            [
             1,
             "#f0f921"
            ]
           ],
           "sequentialminus": [
            [
             0,
             "#0d0887"
            ],
            [
             0.1111111111111111,
             "#46039f"
            ],
            [
             0.2222222222222222,
             "#7201a8"
            ],
            [
             0.3333333333333333,
             "#9c179e"
            ],
            [
             0.4444444444444444,
             "#bd3786"
            ],
            [
             0.5555555555555556,
             "#d8576b"
            ],
            [
             0.6666666666666666,
             "#ed7953"
            ],
            [
             0.7777777777777778,
             "#fb9f3a"
            ],
            [
             0.8888888888888888,
             "#fdca26"
            ],
            [
             1,
             "#f0f921"
            ]
           ]
          },
          "colorway": [
           "#636efa",
           "#EF553B",
           "#00cc96",
           "#ab63fa",
           "#FFA15A",
           "#19d3f3",
           "#FF6692",
           "#B6E880",
           "#FF97FF",
           "#FECB52"
          ],
          "font": {
           "color": "#2a3f5f"
          },
          "geo": {
           "bgcolor": "white",
           "lakecolor": "white",
           "landcolor": "#E5ECF6",
           "showlakes": true,
           "showland": true,
           "subunitcolor": "white"
          },
          "hoverlabel": {
           "align": "left"
          },
          "hovermode": "closest",
          "mapbox": {
           "style": "light"
          },
          "paper_bgcolor": "white",
          "plot_bgcolor": "#E5ECF6",
          "polar": {
           "angularaxis": {
            "gridcolor": "white",
            "linecolor": "white",
            "ticks": ""
           },
           "bgcolor": "#E5ECF6",
           "radialaxis": {
            "gridcolor": "white",
            "linecolor": "white",
            "ticks": ""
           }
          },
          "scene": {
           "xaxis": {
            "backgroundcolor": "#E5ECF6",
            "gridcolor": "white",
            "gridwidth": 2,
            "linecolor": "white",
            "showbackground": true,
            "ticks": "",
            "zerolinecolor": "white"
           },
           "yaxis": {
            "backgroundcolor": "#E5ECF6",
            "gridcolor": "white",
            "gridwidth": 2,
            "linecolor": "white",
            "showbackground": true,
            "ticks": "",
            "zerolinecolor": "white"
           },
           "zaxis": {
            "backgroundcolor": "#E5ECF6",
            "gridcolor": "white",
            "gridwidth": 2,
            "linecolor": "white",
            "showbackground": true,
            "ticks": "",
            "zerolinecolor": "white"
           }
          },
          "shapedefaults": {
           "line": {
            "color": "#2a3f5f"
           }
          },
          "ternary": {
           "aaxis": {
            "gridcolor": "white",
            "linecolor": "white",
            "ticks": ""
           },
           "baxis": {
            "gridcolor": "white",
            "linecolor": "white",
            "ticks": ""
           },
           "bgcolor": "#E5ECF6",
           "caxis": {
            "gridcolor": "white",
            "linecolor": "white",
            "ticks": ""
           }
          },
          "title": {
           "x": 0.05
          },
          "xaxis": {
           "automargin": true,
           "gridcolor": "white",
           "linecolor": "white",
           "ticks": "",
           "title": {
            "standoff": 15
           },
           "zerolinecolor": "white",
           "zerolinewidth": 2
          },
          "yaxis": {
           "automargin": true,
           "gridcolor": "white",
           "linecolor": "white",
           "ticks": "",
           "title": {
            "standoff": 15
           },
           "zerolinecolor": "white",
           "zerolinewidth": 2
          }
         }
        },
        "title": {
         "text": "3D visualization of the grid search results"
        },
        "width": 960
       }
      },
      "image/png": "[encoded data removed]",
      "text/html": [
       "<div>                            <div id=\"1b8e75a6-3b9a-4ff5-ac2f-d8fb12b693b3\" class=\"plotly-graph-div\" style=\"height:700px; width:960px;\"></div>            <script type=\"text/javascript\">                require([\"plotly\"], function(Plotly) {                    window.PLOTLYENV=window.PLOTLYENV || {};                                    if (document.getElementById(\"1b8e75a6-3b9a-4ff5-ac2f-d8fb12b693b3\")) {                    Plotly.newPlot(                        \"1b8e75a6-3b9a-4ff5-ac2f-d8fb12b693b3\",                        [{\"hoverinfo\": \"text\", \"marker\": {\"color\": \"mediumslateblue\", \"opacity\": 1.0, \"size\": 5}, \"mode\": \"markers\", \"text\": [\"Test score: 0.6822<br>Fit time: 0.0698<br>Solver: liblinear\", \"Test score: 0.6811<br>Fit time: 0.1628<br>Solver: liblinear\", \"Test score: 0.6841<br>Fit time: 0.0758<br>Solver: liblinear\", \"Test score: 0.6815<br>Fit time: 0.1722<br>Solver: liblinear\", \"Test score: 0.6822<br>Fit time: 0.0534<br>Solver: lbfgs\", \"Test score: 0.6811<br>Fit time: 0.2491<br>Solver: lbfgs\", \"Test score: 0.6845<br>Fit time: 0.2845<br>Solver: lbfgs\", \"Test score: 0.6803<br>Fit time: 0.882<br>Solver: lbfgs\"], \"type\": \"scatter3d\", \"x\": [0.6822278764878386, 0.6810850439882697, 0.6841246909320914, 0.6814674256799493, 0.6822278764878386, 0.6810850439882697, 0.6845034788108791, 0.680329624518429], \"y\": [\"liblinear\", \"liblinear\", \"liblinear\", \"liblinear\", \"lbfgs\", \"lbfgs\", \"lbfgs\", \"lbfgs\"], \"z\": [0.06976261138916015, 0.16279892921447753, 0.07578301429748535, 0.17222399711608888, 0.05338859558105469, 0.2491380214691162, 0.2844566345214844, 0.8820469856262207]}],                        {\"height\": 700, \"margin\": {\"b\": 30, \"l\": 30, \"r\": 30, \"t\": 30}, \"scene\": {\"xaxis\": {\"nticks\": 10, \"title\": {\"text\": \"mean_test_score\"}}, \"yaxis\": {\"nticks\": 10, \"title\": {\"text\": \"param_lreg__solver\"}}, \"zaxis\": {\"nticks\": 10, \"title\": {\"text\": \"mean_fit_time\"}}}, \"template\": {\"data\": {\"bar\": [{\"error_x\": {\"color\": \"#2a3f5f\"}, \"error_y\": {\"color\": \"#2a3f5f\"}, \"marker\": {\"line\": {\"color\": \"#E5ECF6\", \"width\": 0.5}}, \"type\": \"bar\"}], \"barpolar\": [{\"marker\": {\"line\": {\"color\": \"#E5ECF6\", \"width\": 0.5}}, \"type\": \"barpolar\"}], \"carpet\": [{\"aaxis\": {\"endlinecolor\": \"#2a3f5f\", \"gridcolor\": \"white\", \"linecolor\": \"white\", \"minorgridcolor\": \"white\", \"startlinecolor\": \"#2a3f5f\"}, \"baxis\": {\"endlinecolor\": \"#2a3f5f\", \"gridcolor\": \"white\", \"linecolor\": \"white\", \"minorgridcolor\": \"white\", \"startlinecolor\": \"#2a3f5f\"}, \"type\": \"carpet\"}], \"choropleth\": [{\"colorbar\": {\"outlinewidth\": 0, \"ticks\": \"\"}, \"type\": \"choropleth\"}], \"contour\": [{\"colorbar\": {\"outlinewidth\": 0, \"ticks\": \"\"}, \"colorscale\": [[0.0, \"#0d0887\"], [0.1111111111111111, \"#46039f\"], [0.2222222222222222, \"#7201a8\"], [0.3333333333333333, \"#9c179e\"], [0.4444444444444444, \"#bd3786\"], [0.5555555555555556, \"#d8576b\"], [0.6666666666666666, \"#ed7953\"], [0.7777777777777778, \"#fb9f3a\"], [0.8888888888888888, \"#fdca26\"], [1.0, \"#f0f921\"]], \"type\": \"contour\"}], \"contourcarpet\": [{\"colorbar\": {\"outlinewidth\": 0, \"ticks\": \"\"}, \"type\": \"contourcarpet\"}], \"heatmap\": [{\"colorbar\": {\"outlinewidth\": 0, \"ticks\": \"\"}, \"colorscale\": [[0.0, \"#0d0887\"], [0.1111111111111111, \"#46039f\"], [0.2222222222222222, \"#7201a8\"], [0.3333333333333333, \"#9c179e\"], [0.4444444444444444, \"#bd3786\"], [0.5555555555555556, \"#d8576b\"], [0.6666666666666666, \"#ed7953\"], [0.7777777777777778, \"#fb9f3a\"], [0.8888888888888888, \"#fdca26\"], [1.0, \"#f0f921\"]], \"type\": \"heatmap\"}], \"heatmapgl\": [{\"colorbar\": {\"outlinewidth\": 0, \"ticks\": \"\"}, \"colorscale\": [[0.0, \"#0d0887\"], [0.1111111111111111, \"#46039f\"], [0.2222222222222222, \"#7201a8\"], [0.3333333333333333, \"#9c179e\"], [0.4444444444444444, \"#bd3786\"], [0.5555555555555556, \"#d8576b\"], [0.6666666666666666, \"#ed7953\"], [0.7777777777777778, \"#fb9f3a\"], [0.8888888888888888, \"#fdca26\"], [1.0, \"#f0f921\"]], \"type\": \"heatmapgl\"}], \"histogram\": [{\"marker\": {\"colorbar\": {\"outlinewidth\": 0, \"ticks\": \"\"}}, \"type\": \"histogram\"}], \"histogram2d\": [{\"colorbar\": {\"outlinewidth\": 0, \"ticks\": \"\"}, \"colorscale\": [[0.0, \"#0d0887\"], [0.1111111111111111, \"#46039f\"], [0.2222222222222222, \"#7201a8\"], [0.3333333333333333, \"#9c179e\"], [0.4444444444444444, \"#bd3786\"], [0.5555555555555556, \"#d8576b\"], [0.6666666666666666, \"#ed7953\"], [0.7777777777777778, \"#fb9f3a\"], [0.8888888888888888, \"#fdca26\"], [1.0, \"#f0f921\"]], \"type\": \"histogram2d\"}], \"histogram2dcontour\": [{\"colorbar\": {\"outlinewidth\": 0, \"ticks\": \"\"}, \"colorscale\": [[0.0, \"#0d0887\"], [0.1111111111111111, \"#46039f\"], [0.2222222222222222, \"#7201a8\"], [0.3333333333333333, \"#9c179e\"], [0.4444444444444444, \"#bd3786\"], [0.5555555555555556, \"#d8576b\"], [0.6666666666666666, \"#ed7953\"], [0.7777777777777778, \"#fb9f3a\"], [0.8888888888888888, \"#fdca26\"], [1.0, \"#f0f921\"]], \"type\": \"histogram2dcontour\"}], \"mesh3d\": [{\"colorbar\": {\"outlinewidth\": 0, \"ticks\": \"\"}, \"type\": \"mesh3d\"}], \"parcoords\": [{\"line\": {\"colorbar\": {\"outlinewidth\": 0, \"ticks\": \"\"}}, \"type\": \"parcoords\"}], \"pie\": [{\"automargin\": true, \"type\": \"pie\"}], \"scatter\": [{\"marker\": {\"colorbar\": {\"outlinewidth\": 0, \"ticks\": \"\"}}, \"type\": \"scatter\"}], \"scatter3d\": [{\"line\": {\"colorbar\": {\"outlinewidth\": 0, \"ticks\": \"\"}}, \"marker\": {\"colorbar\": {\"outlinewidth\": 0, \"ticks\": \"\"}}, \"type\": \"scatter3d\"}], \"scattercarpet\": [{\"marker\": {\"colorbar\": {\"outlinewidth\": 0, \"ticks\": \"\"}}, \"type\": \"scattercarpet\"}], \"scattergeo\": [{\"marker\": {\"colorbar\": {\"outlinewidth\": 0, \"ticks\": \"\"}}, \"type\": \"scattergeo\"}], \"scattergl\": [{\"marker\": {\"colorbar\": {\"outlinewidth\": 0, \"ticks\": \"\"}}, \"type\": \"scattergl\"}], \"scattermapbox\": [{\"marker\": {\"colorbar\": {\"outlinewidth\": 0, \"ticks\": \"\"}}, \"type\": \"scattermapbox\"}], \"scatterpolar\": [{\"marker\": {\"colorbar\": {\"outlinewidth\": 0, \"ticks\": \"\"}}, \"type\": \"scatterpolar\"}], \"scatterpolargl\": [{\"marker\": {\"colorbar\": {\"outlinewidth\": 0, \"ticks\": \"\"}}, \"type\": \"scatterpolargl\"}], \"scatterternary\": [{\"marker\": {\"colorbar\": {\"outlinewidth\": 0, \"ticks\": \"\"}}, \"type\": \"scatterternary\"}], \"surface\": [{\"colorbar\": {\"outlinewidth\": 0, \"ticks\": \"\"}, \"colorscale\": [[0.0, \"#0d0887\"], [0.1111111111111111, \"#46039f\"], [0.2222222222222222, \"#7201a8\"], [0.3333333333333333, \"#9c179e\"], [0.4444444444444444, \"#bd3786\"], [0.5555555555555556, \"#d8576b\"], [0.6666666666666666, \"#ed7953\"], [0.7777777777777778, \"#fb9f3a\"], [0.8888888888888888, \"#fdca26\"], [1.0, \"#f0f921\"]], \"type\": \"surface\"}], \"table\": [{\"cells\": {\"fill\": {\"color\": \"#EBF0F8\"}, \"line\": {\"color\": \"white\"}}, \"header\": {\"fill\": {\"color\": \"#C8D4E3\"}, \"line\": {\"color\": \"white\"}}, \"type\": \"table\"}]}, \"layout\": {\"annotationdefaults\": {\"arrowcolor\": \"#2a3f5f\", \"arrowhead\": 0, \"arrowwidth\": 1}, \"autotypenumbers\": \"strict\", \"coloraxis\": {\"colorbar\": {\"outlinewidth\": 0, \"ticks\": \"\"}}, \"colorscale\": {\"diverging\": [[0, \"#8e0152\"], [0.1, \"#c51b7d\"], [0.2, \"#de77ae\"], [0.3, \"#f1b6da\"], [0.4, \"#fde0ef\"], [0.5, \"#f7f7f7\"], [0.6, \"#e6f5d0\"], [0.7, \"#b8e186\"], [0.8, \"#7fbc41\"], [0.9, \"#4d9221\"], [1, \"#276419\"]], \"sequential\": [[0.0, \"#0d0887\"], [0.1111111111111111, \"#46039f\"], [0.2222222222222222, \"#7201a8\"], [0.3333333333333333, \"#9c179e\"], [0.4444444444444444, \"#bd3786\"], [0.5555555555555556, \"#d8576b\"], [0.6666666666666666, \"#ed7953\"], [0.7777777777777778, \"#fb9f3a\"], [0.8888888888888888, \"#fdca26\"], [1.0, \"#f0f921\"]], \"sequentialminus\": [[0.0, \"#0d0887\"], [0.1111111111111111, \"#46039f\"], [0.2222222222222222, \"#7201a8\"], [0.3333333333333333, \"#9c179e\"], [0.4444444444444444, \"#bd3786\"], [0.5555555555555556, \"#d8576b\"], [0.6666666666666666, \"#ed7953\"], [0.7777777777777778, \"#fb9f3a\"], [0.8888888888888888, \"#fdca26\"], [1.0, \"#f0f921\"]]}, \"colorway\": [\"#636efa\", \"#EF553B\", \"#00cc96\", \"#ab63fa\", \"#FFA15A\", \"#19d3f3\", \"#FF6692\", \"#B6E880\", \"#FF97FF\", \"#FECB52\"], \"font\": {\"color\": \"#2a3f5f\"}, \"geo\": {\"bgcolor\": \"white\", \"lakecolor\": \"white\", \"landcolor\": \"#E5ECF6\", \"showlakes\": true, \"showland\": true, \"subunitcolor\": \"white\"}, \"hoverlabel\": {\"align\": \"left\"}, \"hovermode\": \"closest\", \"mapbox\": {\"style\": \"light\"}, \"paper_bgcolor\": \"white\", \"plot_bgcolor\": \"#E5ECF6\", \"polar\": {\"angularaxis\": {\"gridcolor\": \"white\", \"linecolor\": \"white\", \"ticks\": \"\"}, \"bgcolor\": \"#E5ECF6\", \"radialaxis\": {\"gridcolor\": \"white\", \"linecolor\": \"white\", \"ticks\": \"\"}}, \"scene\": {\"xaxis\": {\"backgroundcolor\": \"#E5ECF6\", \"gridcolor\": \"white\", \"gridwidth\": 2, \"linecolor\": \"white\", \"showbackground\": true, \"ticks\": \"\", \"zerolinecolor\": \"white\"}, \"yaxis\": {\"backgroundcolor\": \"#E5ECF6\", \"gridcolor\": \"white\", \"gridwidth\": 2, \"linecolor\": \"white\", \"showbackground\": true, \"ticks\": \"\", \"zerolinecolor\": \"white\"}, \"zaxis\": {\"backgroundcolor\": \"#E5ECF6\", \"gridcolor\": \"white\", \"gridwidth\": 2, \"linecolor\": \"white\", \"showbackground\": true, \"ticks\": \"\", \"zerolinecolor\": \"white\"}}, \"shapedefaults\": {\"line\": {\"color\": \"#2a3f5f\"}}, \"ternary\": {\"aaxis\": {\"gridcolor\": \"white\", \"linecolor\": \"white\", \"ticks\": \"\"}, \"baxis\": {\"gridcolor\": \"white\", \"linecolor\": \"white\", \"ticks\": \"\"}, \"bgcolor\": \"#E5ECF6\", \"caxis\": {\"gridcolor\": \"white\", \"linecolor\": \"white\", \"ticks\": \"\"}}, \"title\": {\"x\": 0.05}, \"xaxis\": {\"automargin\": true, \"gridcolor\": \"white\", \"linecolor\": \"white\", \"ticks\": \"\", \"title\": {\"standoff\": 15}, \"zerolinecolor\": \"white\", \"zerolinewidth\": 2}, \"yaxis\": {\"automargin\": true, \"gridcolor\": \"white\", \"linecolor\": \"white\", \"ticks\": \"\", \"title\": {\"standoff\": 15}, \"zerolinecolor\": \"white\", \"zerolinewidth\": 2}}}, \"title\": {\"text\": \"3D visualization of the grid search results\"}, \"width\": 960},                        {\"responsive\": true}                    ).then(function(){\n",
       "                            \n",
       "var gd = document.getElementById('1b8e75a6-3b9a-4ff5-ac2f-d8fb12b693b3');\n",
       "var x = new MutationObserver(function (mutations, observer) {{\n",
       "        var display = window.getComputedStyle(gd).display;\n",
       "        if (!display || display === 'none') {{\n",
       "            console.log([gd, 'removed!']);\n",
       "            Plotly.purge(gd);\n",
       "            observer.disconnect();\n",
       "        }}\n",
       "}});\n",
       "\n",
       "// Listen for the removal of the full notebook cells\n",
       "var notebookContainer = gd.closest('#notebook-container');\n",
       "if (notebookContainer) {{\n",
       "    x.observe(notebookContainer, {childList: true});\n",
       "}}\n",
       "\n",
       "// Listen for the clearing of the current output cell\n",
       "var outputEl = gd.closest('.output');\n",
       "if (outputEl) {{\n",
       "    x.observe(outputEl, {childList: true});\n",
       "}}\n",
       "\n",
       "                        })                };                });            </script>        </div>"
      ]
     },
     "metadata": {},
     "output_type": "display_data"
    }
   ],
   "source": [
    "trace = go.Scatter3d(\n",
    "    x=cvresults_df['mean_test_score'],\n",
    "    y=cvresults_df['param_lreg__solver'],\n",
    "    z=cvresults_df['mean_fit_time'],\n",
    "    mode='markers', \n",
    "    marker=dict(\n",
    "        size= 5,\n",
    "        color='mediumslateblue',\n",
    "        opacity=1.0\n",
    "    ),\n",
    "    text=cvresults_df.text,\n",
    "    hoverinfo='text'\n",
    ")\n",
    "\n",
    "data = [trace]\n",
    "layout = go.Layout(\n",
    "    title='3D visualization of the grid search results',\n",
    "    margin=dict(\n",
    "        l=30,\n",
    "        r=30,\n",
    "        b=30,\n",
    "        t=30\n",
    "    ),\n",
    "    height=700,\n",
    "    width=960,\n",
    "    scene = dict(\n",
    "        xaxis = dict(\n",
    "            title='mean_test_score',\n",
    "            nticks=10\n",
    "        ),\n",
    "        yaxis = dict(\n",
    "            title='param_lreg__solver',\n",
    "            nticks = 10\n",
    "        ),\n",
    "        zaxis = dict(\n",
    "            title='mean_fit_time',\n",
    "            nticks = 10\n",
    "\n",
    "        ),\n",
    "    ),\n",
    " \n",
    ")\n",
    "\n",
    "fig = go.Figure(data=data, layout=layout)\n",
    "fig.show(\"svg\",width=1200,height=600)\n",
    "iplot(fig)"
   ]
  },
  {
   "cell_type": "code",
   "execution_count": null,
   "metadata": {},
   "outputs": [],
   "source": []
  }
 ],
 "metadata": {
  "kernelspec": {
   "display_name": "Python 3",
   "language": "python",
   "name": "python3"
  },
  "language_info": {
   "codemirror_mode": {
    "name": "ipython",
    "version": 3
   },
   "file_extension": ".py",
   "mimetype": "text/x-python",
   "name": "python",
   "nbconvert_exporter": "python",
   "pygments_lexer": "ipython3",
   "version": "3.9.4"
  }
 },
 "nbformat": 4,
 "nbformat_minor": 4
}
