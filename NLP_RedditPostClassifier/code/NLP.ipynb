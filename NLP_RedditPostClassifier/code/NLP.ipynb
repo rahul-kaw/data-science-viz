{
 "cells": [
  {
   "cell_type": "code",
   "execution_count": 2,
   "metadata": {},
   "outputs": [],
   "source": [
    "#Data manipulation related\n",
    "import pandas as pd\n",
    "import numpy as np\n",
    "#Plotting imports\n",
    "import seaborn as sns\n",
    "import matplotlib.pyplot as plt\n",
    "\n",
    "#Python\n",
    "import requests as req\n",
    "import time\n",
    "import spacy as sp\n",
    "from collections import OrderedDict\n",
    "from operator import itemgetter\n",
    "import regex as reg\n",
    "\n",
    "#All sklearn imports\n",
    "from sklearn.pipeline import make_pipeline, Pipeline\n",
    "from sklearn.feature_extraction.text import CountVectorizer,TfidfVectorizer\n",
    "from sklearn.linear_model import LogisticRegression\n",
    "from sklearn.model_selection import GridSearchCV\n",
    "from sklearn.model_selection import train_test_split\n",
    "from sklearn.metrics import confusion_matrix\n",
    "from sklearn.naive_bayes import MultinomialNB\n",
    "from sklearn.tree import DecisionTreeClassifier\n",
    "from sklearn.tree import export_graphviz\n",
    "from sklearn.metrics import classification_report, f1_score\n",
    "\n",
    "from IPython.core.interactiveshell import InteractiveShell\n",
    "InteractiveShell.ast_node_interactivity = \"all\"\n",
    "import warnings\n",
    "warnings.filterwarnings('ignore')"
   ]
  },
  {
   "cell_type": "code",
   "execution_count": 3,
   "metadata": {},
   "outputs": [],
   "source": [
    "#65 days of posts from one subreddit and 45 day from another to ensure an un-even spread vs 50/50 spread\n",
    "til  = pd.read_csv('./reddit_65days.csv')\n",
    "moto = pd.read_csv('./reddit_45_m_days.csv')"
   ]
  },
  {
   "cell_type": "code",
   "execution_count": 4,
   "metadata": {
    "scrolled": true
   },
   "outputs": [],
   "source": [
    "til['subreddit'] = til['subreddit'].map({'motorcycles':1,'todayilearned':0})\n",
    "til['selftext'] = np.where(til['selftext'].isna(),'',til['selftext'])\n",
    "til['selftext'] = np.where( (til['selftext'] == '[removed]'),'',til['selftext'])\n",
    "til['selftext'] = np.where( (til['selftext'] == '[deleted]'),'',til['selftext'])\n",
    "til['combinedtext'] = til['title'] + ' ' + til['selftext']\n",
    "til = til[['combinedtext','subreddit']]\n",
    "\n",
    "moto['subreddit'] = moto['subreddit'].map({'motorcycles':1,'todayilearned':0})\n",
    "moto['selftext'] = np.where(moto['selftext'].isna(),'',moto['selftext'])\n",
    "moto['selftext'] = np.where( (moto['selftext'] == '[removed]'),'',moto['selftext'])\n",
    "moto['selftext'] = np.where( (moto['selftext'] == '[deleted]'),'',moto['selftext'])\n",
    "moto['combinedtext'] = moto['title'] + ' ' + moto['selftext']\n",
    "\n",
    "moto = moto[['combinedtext','subreddit']]\n"
   ]
  },
  {
   "cell_type": "code",
   "execution_count": 5,
   "metadata": {},
   "outputs": [
    {
     "data": {
      "text/html": [
       "<div>\n",
       "<style scoped>\n",
       "    .dataframe tbody tr th:only-of-type {\n",
       "        vertical-align: middle;\n",
       "    }\n",
       "\n",
       "    .dataframe tbody tr th {\n",
       "        vertical-align: top;\n",
       "    }\n",
       "\n",
       "    .dataframe thead th {\n",
       "        text-align: right;\n",
       "    }\n",
       "</style>\n",
       "<table border=\"1\" class=\"dataframe\">\n",
       "  <thead>\n",
       "    <tr style=\"text-align: right;\">\n",
       "      <th></th>\n",
       "      <th>combinedtext</th>\n",
       "      <th>subreddit</th>\n",
       "    </tr>\n",
       "  </thead>\n",
       "  <tbody>\n",
       "    <tr>\n",
       "      <th>0</th>\n",
       "      <td>TIL that between 76 and 92% of Americans males...</td>\n",
       "      <td>0</td>\n",
       "    </tr>\n",
       "    <tr>\n",
       "      <th>1</th>\n",
       "      <td>TIL that between 76 and 92% of Americans males...</td>\n",
       "      <td>0</td>\n",
       "    </tr>\n",
       "    <tr>\n",
       "      <th>2</th>\n",
       "      <td>TIL that 81% of American males (aged 14-59) ar...</td>\n",
       "      <td>0</td>\n",
       "    </tr>\n",
       "    <tr>\n",
       "      <th>3</th>\n",
       "      <td>TIL that 81% of American males (aged 14-59) ar...</td>\n",
       "      <td>0</td>\n",
       "    </tr>\n",
       "    <tr>\n",
       "      <th>4</th>\n",
       "      <td>TIL that the owo_bot account is rated more who...</td>\n",
       "      <td>0</td>\n",
       "    </tr>\n",
       "  </tbody>\n",
       "</table>\n",
       "</div>"
      ],
      "text/plain": [
       "                                        combinedtext  subreddit\n",
       "0  TIL that between 76 and 92% of Americans males...          0\n",
       "1  TIL that between 76 and 92% of Americans males...          0\n",
       "2  TIL that 81% of American males (aged 14-59) ar...          0\n",
       "3  TIL that 81% of American males (aged 14-59) ar...          0\n",
       "4  TIL that the owo_bot account is rated more who...          0"
      ]
     },
     "execution_count": 5,
     "metadata": {},
     "output_type": "execute_result"
    },
    {
     "data": {
      "text/plain": [
       "combinedtext    0\n",
       "subreddit       0\n",
       "dtype: int64"
      ]
     },
     "execution_count": 5,
     "metadata": {},
     "output_type": "execute_result"
    },
    {
     "name": "stdout",
     "output_type": "stream",
     "text": [
      "<class 'pandas.core.frame.DataFrame'>\n",
      "Int64Index: 54612 entries, 0 to 54611\n",
      "Data columns (total 2 columns):\n",
      " #   Column        Non-Null Count  Dtype \n",
      "---  ------        --------------  ----- \n",
      " 0   combinedtext  54612 non-null  object\n",
      " 1   subreddit     54612 non-null  int64 \n",
      "dtypes: int64(1), object(1)\n",
      "memory usage: 1.2+ MB\n"
     ]
    }
   ],
   "source": [
    "redditdf = til.merge(moto, on = ['combinedtext','subreddit'], how = 'outer')\n",
    "\n",
    "redditdf.head()\n",
    "redditdf.isna().sum()\n",
    "redditdf.info()"
   ]
  },
  {
   "cell_type": "code",
   "execution_count": 6,
   "metadata": {},
   "outputs": [
    {
     "data": {
      "text/plain": [
       "(54612,)"
      ]
     },
     "execution_count": 6,
     "metadata": {},
     "output_type": "execute_result"
    },
    {
     "data": {
      "text/plain": [
       "(54612,)"
      ]
     },
     "execution_count": 6,
     "metadata": {},
     "output_type": "execute_result"
    }
   ],
   "source": [
    "y = redditdf['subreddit']\n",
    "X = redditdf['combinedtext']\n",
    "\n",
    "X.shape\n",
    "y.shape"
   ]
  },
  {
   "cell_type": "code",
   "execution_count": 7,
   "metadata": {},
   "outputs": [
    {
     "data": {
      "text/plain": [
       "0    32437\n",
       "1    22175\n",
       "Name: subreddit, dtype: int64"
      ]
     },
     "execution_count": 7,
     "metadata": {},
     "output_type": "execute_result"
    },
    {
     "data": {
      "text/plain": [
       "0    0.593954\n",
       "1    0.406046\n",
       "Name: subreddit, dtype: float64"
      ]
     },
     "execution_count": 7,
     "metadata": {},
     "output_type": "execute_result"
    }
   ],
   "source": [
    "y.value_counts()\n",
    "y.value_counts(normalize = True)"
   ]
  },
  {
   "cell_type": "markdown",
   "metadata": {},
   "source": [
    "##### Split data into training and test sets."
   ]
  },
  {
   "cell_type": "code",
   "execution_count": 8,
   "metadata": {},
   "outputs": [
    {
     "data": {
      "text/plain": [
       "(36590,)"
      ]
     },
     "execution_count": 8,
     "metadata": {},
     "output_type": "execute_result"
    },
    {
     "data": {
      "text/plain": [
       "(18022,)"
      ]
     },
     "execution_count": 8,
     "metadata": {},
     "output_type": "execute_result"
    },
    {
     "data": {
      "text/plain": [
       "(18022,)"
      ]
     },
     "execution_count": 8,
     "metadata": {},
     "output_type": "execute_result"
    },
    {
     "data": {
      "text/plain": [
       "(36590,)"
      ]
     },
     "execution_count": 8,
     "metadata": {},
     "output_type": "execute_result"
    }
   ],
   "source": [
    "X_train,X_test,y_train,y_test = train_test_split(X,y,test_size = 0.33,random_state = 111)\n",
    "X_train.shape\n",
    "X_test.shape\n",
    "y_test.shape\n",
    "y_train.shape"
   ]
  },
  {
   "cell_type": "code",
   "execution_count": 9,
   "metadata": {},
   "outputs": [
    {
     "data": {
      "text/plain": [
       "0    21716\n",
       "1    14874\n",
       "Name: subreddit, dtype: int64"
      ]
     },
     "execution_count": 9,
     "metadata": {},
     "output_type": "execute_result"
    },
    {
     "data": {
      "text/plain": [
       "0    0.593495\n",
       "1    0.406505\n",
       "Name: subreddit, dtype: float64"
      ]
     },
     "execution_count": 9,
     "metadata": {},
     "output_type": "execute_result"
    }
   ],
   "source": [
    "y_train.value_counts()\n",
    "y_train.value_counts(normalize = True)"
   ]
  },
  {
   "cell_type": "code",
   "execution_count": 10,
   "metadata": {},
   "outputs": [
    {
     "data": {
      "text/plain": [
       "0    10721\n",
       "1     7301\n",
       "Name: subreddit, dtype: int64"
      ]
     },
     "execution_count": 10,
     "metadata": {},
     "output_type": "execute_result"
    },
    {
     "data": {
      "text/plain": [
       "0    0.594884\n",
       "1    0.405116\n",
       "Name: subreddit, dtype: float64"
      ]
     },
     "execution_count": 10,
     "metadata": {},
     "output_type": "execute_result"
    }
   ],
   "source": [
    "y_test.value_counts()\n",
    "y_test.value_counts(normalize = True)"
   ]
  },
  {
   "cell_type": "markdown",
   "metadata": {},
   "source": [
    "##### Use spaCy NLP library to tokenize and lemmatize each document"
   ]
  },
  {
   "cell_type": "code",
   "execution_count": 14,
   "metadata": {},
   "outputs": [],
   "source": [
    "def lemma_tokens(doc):\n",
    "    d = spacy_nlp(doc)\n",
    "    return [token.lemma_ for token in d if not token.is_stop \\\n",
    "           and token.is_alpha and token.lemma_ != '-PRON-']"
   ]
  },
  {
   "cell_type": "markdown",
   "metadata": {},
   "source": [
    "##### This function pre-processes text. Specifically uses a regex to remove punctuation, urls, line feed, tab spaces, carriage returns\n",
    "##### Also removes 'TIL' from each document. Every 'todayilearned' sub-reddit post begins with TIL."
   ]
  },
  {
   "cell_type": "code",
   "execution_count": null,
   "metadata": {},
   "outputs": [],
   "source": []
  },
  {
   "cell_type": "code",
   "execution_count": 15,
   "metadata": {},
   "outputs": [
    {
     "ename": "AttributeError",
     "evalue": "module 'spacy' has no attribute 'lang'",
     "output_type": "error",
     "traceback": [
      "\u001b[0;31m---------------------------------------------------------------------------\u001b[0m",
      "\u001b[0;31mAttributeError\u001b[0m                            Traceback (most recent call last)",
      "\u001b[0;32m<ipython-input-15-1859db59eff4>\u001b[0m in \u001b[0;36m<module>\u001b[0;34m\u001b[0m\n\u001b[0;32m----> 1\u001b[0;31m \u001b[0mspacy_stopwords\u001b[0m \u001b[0;34m=\u001b[0m \u001b[0msp\u001b[0m\u001b[0;34m.\u001b[0m\u001b[0mlang\u001b[0m\u001b[0;34m.\u001b[0m\u001b[0men\u001b[0m\u001b[0;34m.\u001b[0m\u001b[0mstop_words\u001b[0m\u001b[0;34m.\u001b[0m\u001b[0mSTOP_WORDS\u001b[0m\u001b[0;34m\u001b[0m\u001b[0;34m\u001b[0m\u001b[0m\n\u001b[0m\u001b[1;32m      2\u001b[0m \u001b[0;31m#print(spacy_stopwords)\u001b[0m\u001b[0;34m\u001b[0m\u001b[0;34m\u001b[0m\u001b[0;34m\u001b[0m\u001b[0m\n\u001b[1;32m      3\u001b[0m \u001b[0mcommon_words\u001b[0m \u001b[0;34m=\u001b[0m \u001b[0;34m[\u001b[0m\u001b[0;34m]\u001b[0m\u001b[0;34m\u001b[0m\u001b[0;34m\u001b[0m\u001b[0m\n\u001b[1;32m      4\u001b[0m \u001b[0;34m\u001b[0m\u001b[0m\n\u001b[1;32m      5\u001b[0m \u001b[0;32mdef\u001b[0m \u001b[0mclean_text\u001b[0m\u001b[0;34m(\u001b[0m\u001b[0mtext\u001b[0m\u001b[0;34m)\u001b[0m\u001b[0;34m:\u001b[0m\u001b[0;34m\u001b[0m\u001b[0;34m\u001b[0m\u001b[0m\n",
      "\u001b[0;31mAttributeError\u001b[0m: module 'spacy' has no attribute 'lang'"
     ]
    }
   ],
   "source": [
    "spacy_stopwords = sp.lang.en.stop_words.STOP_WORDS\n",
    "\n",
    "#print(spacy_stopwords)\n",
    "common_words = []\n",
    "\n",
    "def clean_text(text):\n",
    "\n",
    "#replace anything that isn't a-z or A-Z with spaces including punctuations, exclamation etc\n",
    "#replace 'https://', 'www.' by space \n",
    "    ret_str = ' '\n",
    "    regex = r\"(.\\\\n|.\\\\t|.\\\\r)|(^TIL)|([^a-zA-Z0-9\\s]+)|(ht[tp?s://a-zA-Z0-9.com]+)|(ww[wa-zA-Z0-9.com]+)\"\n",
    "    ret_str = reg.sub(regex, '', text)\n",
    "    ret_str = ret_str.rstrip() \n",
    "    ret_str = ret_str.lstrip()\n",
    "    ret_str = ret_str.lower()\n",
    "    doc = spacy_nlp(ret_str)\n",
    "    all_lemmas =  [token.lemma_ for token in doc if  not token.is_stop \\\n",
    "                   and token.is_alpha and token.lemma_ != '-PRON-']\n",
    "    #word_count = Counter(words)\n",
    "    #common_words = word_count.most_common(5)\n",
    "    #common_words.append (word_count.most_common(5))\n",
    "    return(\" \".join(all_lemmas)) \n"
   ]
  },
  {
   "cell_type": "markdown",
   "metadata": {},
   "source": [
    "#### Iterate over each document in X and pre-processes it."
   ]
  },
  {
   "cell_type": "code",
   "execution_count": 16,
   "metadata": {},
   "outputs": [],
   "source": [
    "## Clean data. \n",
    "## See clean_text() above for details.\n",
    "def process_text():\n",
    "    X_clean_train = []\n",
    "    X_clean_test = []\n",
    "    start = time.perf_counter()\n",
    "    counter = 0\n",
    "\n",
    "    for train in X_train:\n",
    "        X_clean_train.append(clean_text(train))\n",
    "        counter += 1\n",
    "    print(f\"Processed {counter} rows in training data\")\n",
    "\n",
    "    counter = 0\n",
    "    for test in X_test:\n",
    "            X_clean_test.append(clean_text(test))\n",
    "            counter += 1\n",
    "    print(f\"Processed {counter} rows in test data\")\n",
    "\n",
    "    end = time.perf_counter()\n",
    "\n",
    "    print(f\"Took { round((end-start)/60,0)} minutes to clean,tokenize and lemmatize\")\n",
    "    return X_clean_train,X_clean_test\n"
   ]
  },
  {
   "cell_type": "code",
   "execution_count": 17,
   "metadata": {},
   "outputs": [
    {
     "ename": "NameError",
     "evalue": "name 'clean_text' is not defined",
     "output_type": "error",
     "traceback": [
      "\u001b[0;31m---------------------------------------------------------------------------\u001b[0m",
      "\u001b[0;31mNameError\u001b[0m                                 Traceback (most recent call last)",
      "\u001b[0;32m<ipython-input-17-c60731c2dfeb>\u001b[0m in \u001b[0;36m<module>\u001b[0;34m\u001b[0m\n\u001b[0;32m----> 1\u001b[0;31m \u001b[0mX_clean_train\u001b[0m\u001b[0;34m,\u001b[0m\u001b[0mX_clean_test\u001b[0m  \u001b[0;34m=\u001b[0m \u001b[0mprocess_text\u001b[0m\u001b[0;34m(\u001b[0m\u001b[0;34m)\u001b[0m\u001b[0;34m\u001b[0m\u001b[0;34m\u001b[0m\u001b[0m\n\u001b[0m",
      "\u001b[0;32m<ipython-input-16-7a301a2e4855>\u001b[0m in \u001b[0;36mprocess_text\u001b[0;34m()\u001b[0m\n\u001b[1;32m      8\u001b[0m \u001b[0;34m\u001b[0m\u001b[0m\n\u001b[1;32m      9\u001b[0m     \u001b[0;32mfor\u001b[0m \u001b[0mtrain\u001b[0m \u001b[0;32min\u001b[0m \u001b[0mX_train\u001b[0m\u001b[0;34m:\u001b[0m\u001b[0;34m\u001b[0m\u001b[0;34m\u001b[0m\u001b[0m\n\u001b[0;32m---> 10\u001b[0;31m         \u001b[0mX_clean_train\u001b[0m\u001b[0;34m.\u001b[0m\u001b[0mappend\u001b[0m\u001b[0;34m(\u001b[0m\u001b[0mclean_text\u001b[0m\u001b[0;34m(\u001b[0m\u001b[0mtrain\u001b[0m\u001b[0;34m)\u001b[0m\u001b[0;34m)\u001b[0m\u001b[0;34m\u001b[0m\u001b[0;34m\u001b[0m\u001b[0m\n\u001b[0m\u001b[1;32m     11\u001b[0m         \u001b[0mcounter\u001b[0m \u001b[0;34m+=\u001b[0m \u001b[0;36m1\u001b[0m\u001b[0;34m\u001b[0m\u001b[0;34m\u001b[0m\u001b[0m\n\u001b[1;32m     12\u001b[0m     \u001b[0mprint\u001b[0m\u001b[0;34m(\u001b[0m\u001b[0;34mf\"Processed {counter} rows in training data\"\u001b[0m\u001b[0;34m)\u001b[0m\u001b[0;34m\u001b[0m\u001b[0;34m\u001b[0m\u001b[0m\n",
      "\u001b[0;31mNameError\u001b[0m: name 'clean_text' is not defined"
     ]
    }
   ],
   "source": [
    "X_clean_train,X_clean_test  = process_text()"
   ]
  },
  {
   "cell_type": "markdown",
   "metadata": {},
   "source": [
    "##### Vectorize pre-processed X using CountVectorizer"
   ]
  },
  {
   "cell_type": "code",
   "execution_count": 17,
   "metadata": {},
   "outputs": [
    {
     "data": {
      "text/html": [
       "<div>\n",
       "<style scoped>\n",
       "    .dataframe tbody tr th:only-of-type {\n",
       "        vertical-align: middle;\n",
       "    }\n",
       "\n",
       "    .dataframe tbody tr th {\n",
       "        vertical-align: top;\n",
       "    }\n",
       "\n",
       "    .dataframe thead th {\n",
       "        text-align: right;\n",
       "    }\n",
       "</style>\n",
       "<table border=\"1\" class=\"dataframe\">\n",
       "  <thead>\n",
       "    <tr style=\"text-align: right;\">\n",
       "      <th></th>\n",
       "      <th>0</th>\n",
       "      <th>1</th>\n",
       "      <th>2</th>\n",
       "      <th>3</th>\n",
       "      <th>4</th>\n",
       "      <th>5</th>\n",
       "      <th>6</th>\n",
       "      <th>7</th>\n",
       "      <th>8</th>\n",
       "      <th>9</th>\n",
       "      <th>...</th>\n",
       "      <th>32162</th>\n",
       "      <th>32163</th>\n",
       "      <th>32164</th>\n",
       "      <th>32165</th>\n",
       "      <th>32166</th>\n",
       "      <th>32167</th>\n",
       "      <th>32168</th>\n",
       "      <th>32169</th>\n",
       "      <th>32170</th>\n",
       "      <th>32171</th>\n",
       "    </tr>\n",
       "  </thead>\n",
       "  <tbody>\n",
       "    <tr>\n",
       "      <th>0</th>\n",
       "      <td>0</td>\n",
       "      <td>0</td>\n",
       "      <td>0</td>\n",
       "      <td>0</td>\n",
       "      <td>0</td>\n",
       "      <td>0</td>\n",
       "      <td>0</td>\n",
       "      <td>0</td>\n",
       "      <td>0</td>\n",
       "      <td>0</td>\n",
       "      <td>...</td>\n",
       "      <td>0</td>\n",
       "      <td>0</td>\n",
       "      <td>0</td>\n",
       "      <td>0</td>\n",
       "      <td>0</td>\n",
       "      <td>0</td>\n",
       "      <td>0</td>\n",
       "      <td>0</td>\n",
       "      <td>0</td>\n",
       "      <td>0</td>\n",
       "    </tr>\n",
       "    <tr>\n",
       "      <th>1</th>\n",
       "      <td>0</td>\n",
       "      <td>0</td>\n",
       "      <td>0</td>\n",
       "      <td>0</td>\n",
       "      <td>0</td>\n",
       "      <td>0</td>\n",
       "      <td>0</td>\n",
       "      <td>0</td>\n",
       "      <td>0</td>\n",
       "      <td>0</td>\n",
       "      <td>...</td>\n",
       "      <td>0</td>\n",
       "      <td>0</td>\n",
       "      <td>0</td>\n",
       "      <td>0</td>\n",
       "      <td>0</td>\n",
       "      <td>0</td>\n",
       "      <td>0</td>\n",
       "      <td>0</td>\n",
       "      <td>0</td>\n",
       "      <td>0</td>\n",
       "    </tr>\n",
       "    <tr>\n",
       "      <th>2</th>\n",
       "      <td>0</td>\n",
       "      <td>0</td>\n",
       "      <td>0</td>\n",
       "      <td>0</td>\n",
       "      <td>0</td>\n",
       "      <td>0</td>\n",
       "      <td>0</td>\n",
       "      <td>0</td>\n",
       "      <td>0</td>\n",
       "      <td>0</td>\n",
       "      <td>...</td>\n",
       "      <td>0</td>\n",
       "      <td>0</td>\n",
       "      <td>0</td>\n",
       "      <td>0</td>\n",
       "      <td>0</td>\n",
       "      <td>0</td>\n",
       "      <td>0</td>\n",
       "      <td>0</td>\n",
       "      <td>0</td>\n",
       "      <td>0</td>\n",
       "    </tr>\n",
       "    <tr>\n",
       "      <th>3</th>\n",
       "      <td>0</td>\n",
       "      <td>0</td>\n",
       "      <td>0</td>\n",
       "      <td>0</td>\n",
       "      <td>0</td>\n",
       "      <td>0</td>\n",
       "      <td>0</td>\n",
       "      <td>0</td>\n",
       "      <td>0</td>\n",
       "      <td>0</td>\n",
       "      <td>...</td>\n",
       "      <td>0</td>\n",
       "      <td>0</td>\n",
       "      <td>0</td>\n",
       "      <td>0</td>\n",
       "      <td>0</td>\n",
       "      <td>0</td>\n",
       "      <td>0</td>\n",
       "      <td>0</td>\n",
       "      <td>0</td>\n",
       "      <td>0</td>\n",
       "    </tr>\n",
       "    <tr>\n",
       "      <th>4</th>\n",
       "      <td>0</td>\n",
       "      <td>0</td>\n",
       "      <td>0</td>\n",
       "      <td>0</td>\n",
       "      <td>0</td>\n",
       "      <td>0</td>\n",
       "      <td>0</td>\n",
       "      <td>0</td>\n",
       "      <td>0</td>\n",
       "      <td>0</td>\n",
       "      <td>...</td>\n",
       "      <td>0</td>\n",
       "      <td>0</td>\n",
       "      <td>0</td>\n",
       "      <td>0</td>\n",
       "      <td>0</td>\n",
       "      <td>0</td>\n",
       "      <td>0</td>\n",
       "      <td>0</td>\n",
       "      <td>0</td>\n",
       "      <td>0</td>\n",
       "    </tr>\n",
       "  </tbody>\n",
       "</table>\n",
       "<p>5 rows × 32172 columns</p>\n",
       "</div>"
      ],
      "text/plain": [
       "   0      1      2      3      4      5      6      7      8      9      ...  \\\n",
       "0      0      0      0      0      0      0      0      0      0      0  ...   \n",
       "1      0      0      0      0      0      0      0      0      0      0  ...   \n",
       "2      0      0      0      0      0      0      0      0      0      0  ...   \n",
       "3      0      0      0      0      0      0      0      0      0      0  ...   \n",
       "4      0      0      0      0      0      0      0      0      0      0  ...   \n",
       "\n",
       "   32162  32163  32164  32165  32166  32167  32168  32169  32170  32171  \n",
       "0      0      0      0      0      0      0      0      0      0      0  \n",
       "1      0      0      0      0      0      0      0      0      0      0  \n",
       "2      0      0      0      0      0      0      0      0      0      0  \n",
       "3      0      0      0      0      0      0      0      0      0      0  \n",
       "4      0      0      0      0      0      0      0      0      0      0  \n",
       "\n",
       "[5 rows x 32172 columns]"
      ]
     },
     "execution_count": 17,
     "metadata": {},
     "output_type": "execute_result"
    },
    {
     "data": {
      "text/html": [
       "<div>\n",
       "<style scoped>\n",
       "    .dataframe tbody tr th:only-of-type {\n",
       "        vertical-align: middle;\n",
       "    }\n",
       "\n",
       "    .dataframe tbody tr th {\n",
       "        vertical-align: top;\n",
       "    }\n",
       "\n",
       "    .dataframe thead th {\n",
       "        text-align: right;\n",
       "    }\n",
       "</style>\n",
       "<table border=\"1\" class=\"dataframe\">\n",
       "  <thead>\n",
       "    <tr style=\"text-align: right;\">\n",
       "      <th></th>\n",
       "      <th>0</th>\n",
       "      <th>1</th>\n",
       "      <th>2</th>\n",
       "      <th>3</th>\n",
       "      <th>4</th>\n",
       "      <th>5</th>\n",
       "      <th>6</th>\n",
       "      <th>7</th>\n",
       "      <th>8</th>\n",
       "      <th>9</th>\n",
       "      <th>...</th>\n",
       "      <th>32162</th>\n",
       "      <th>32163</th>\n",
       "      <th>32164</th>\n",
       "      <th>32165</th>\n",
       "      <th>32166</th>\n",
       "      <th>32167</th>\n",
       "      <th>32168</th>\n",
       "      <th>32169</th>\n",
       "      <th>32170</th>\n",
       "      <th>32171</th>\n",
       "    </tr>\n",
       "  </thead>\n",
       "  <tbody>\n",
       "    <tr>\n",
       "      <th>0</th>\n",
       "      <td>0</td>\n",
       "      <td>0</td>\n",
       "      <td>0</td>\n",
       "      <td>0</td>\n",
       "      <td>0</td>\n",
       "      <td>0</td>\n",
       "      <td>0</td>\n",
       "      <td>0</td>\n",
       "      <td>0</td>\n",
       "      <td>0</td>\n",
       "      <td>...</td>\n",
       "      <td>0</td>\n",
       "      <td>0</td>\n",
       "      <td>0</td>\n",
       "      <td>0</td>\n",
       "      <td>0</td>\n",
       "      <td>0</td>\n",
       "      <td>0</td>\n",
       "      <td>0</td>\n",
       "      <td>0</td>\n",
       "      <td>0</td>\n",
       "    </tr>\n",
       "    <tr>\n",
       "      <th>1</th>\n",
       "      <td>0</td>\n",
       "      <td>0</td>\n",
       "      <td>0</td>\n",
       "      <td>0</td>\n",
       "      <td>0</td>\n",
       "      <td>0</td>\n",
       "      <td>0</td>\n",
       "      <td>0</td>\n",
       "      <td>0</td>\n",
       "      <td>0</td>\n",
       "      <td>...</td>\n",
       "      <td>0</td>\n",
       "      <td>0</td>\n",
       "      <td>0</td>\n",
       "      <td>0</td>\n",
       "      <td>0</td>\n",
       "      <td>0</td>\n",
       "      <td>0</td>\n",
       "      <td>0</td>\n",
       "      <td>0</td>\n",
       "      <td>0</td>\n",
       "    </tr>\n",
       "    <tr>\n",
       "      <th>2</th>\n",
       "      <td>0</td>\n",
       "      <td>0</td>\n",
       "      <td>0</td>\n",
       "      <td>0</td>\n",
       "      <td>0</td>\n",
       "      <td>0</td>\n",
       "      <td>0</td>\n",
       "      <td>0</td>\n",
       "      <td>0</td>\n",
       "      <td>0</td>\n",
       "      <td>...</td>\n",
       "      <td>0</td>\n",
       "      <td>0</td>\n",
       "      <td>0</td>\n",
       "      <td>0</td>\n",
       "      <td>0</td>\n",
       "      <td>0</td>\n",
       "      <td>0</td>\n",
       "      <td>0</td>\n",
       "      <td>0</td>\n",
       "      <td>0</td>\n",
       "    </tr>\n",
       "    <tr>\n",
       "      <th>3</th>\n",
       "      <td>0</td>\n",
       "      <td>0</td>\n",
       "      <td>0</td>\n",
       "      <td>0</td>\n",
       "      <td>0</td>\n",
       "      <td>0</td>\n",
       "      <td>0</td>\n",
       "      <td>0</td>\n",
       "      <td>0</td>\n",
       "      <td>0</td>\n",
       "      <td>...</td>\n",
       "      <td>0</td>\n",
       "      <td>0</td>\n",
       "      <td>0</td>\n",
       "      <td>0</td>\n",
       "      <td>0</td>\n",
       "      <td>0</td>\n",
       "      <td>0</td>\n",
       "      <td>0</td>\n",
       "      <td>0</td>\n",
       "      <td>0</td>\n",
       "    </tr>\n",
       "    <tr>\n",
       "      <th>4</th>\n",
       "      <td>0</td>\n",
       "      <td>0</td>\n",
       "      <td>0</td>\n",
       "      <td>0</td>\n",
       "      <td>0</td>\n",
       "      <td>0</td>\n",
       "      <td>0</td>\n",
       "      <td>0</td>\n",
       "      <td>0</td>\n",
       "      <td>0</td>\n",
       "      <td>...</td>\n",
       "      <td>0</td>\n",
       "      <td>0</td>\n",
       "      <td>0</td>\n",
       "      <td>0</td>\n",
       "      <td>0</td>\n",
       "      <td>0</td>\n",
       "      <td>0</td>\n",
       "      <td>0</td>\n",
       "      <td>0</td>\n",
       "      <td>0</td>\n",
       "    </tr>\n",
       "  </tbody>\n",
       "</table>\n",
       "<p>5 rows × 32172 columns</p>\n",
       "</div>"
      ],
      "text/plain": [
       "   0      1      2      3      4      5      6      7      8      9      ...  \\\n",
       "0      0      0      0      0      0      0      0      0      0      0  ...   \n",
       "1      0      0      0      0      0      0      0      0      0      0  ...   \n",
       "2      0      0      0      0      0      0      0      0      0      0  ...   \n",
       "3      0      0      0      0      0      0      0      0      0      0  ...   \n",
       "4      0      0      0      0      0      0      0      0      0      0  ...   \n",
       "\n",
       "   32162  32163  32164  32165  32166  32167  32168  32169  32170  32171  \n",
       "0      0      0      0      0      0      0      0      0      0      0  \n",
       "1      0      0      0      0      0      0      0      0      0      0  \n",
       "2      0      0      0      0      0      0      0      0      0      0  \n",
       "3      0      0      0      0      0      0      0      0      0      0  \n",
       "4      0      0      0      0      0      0      0      0      0      0  \n",
       "\n",
       "[5 rows x 32172 columns]"
      ]
     },
     "execution_count": 17,
     "metadata": {},
     "output_type": "execute_result"
    }
   ],
   "source": [
    "#Convert X_clean_train, X_clean_test to matrix of token counts\n",
    "\n",
    "count_vectorizer = CountVectorizer()\n",
    "X_clean_train_matrix = count_vectorizer.fit_transform(X_clean_train)\n",
    "X_clean_test_matrix = count_vectorizer.transform(X_clean_test)\n",
    "\n",
    "X_clean_train_df = pd.DataFrame(X_clean_train_matrix.toarray())\n",
    "X_clean_train_df.head()\n",
    "\n",
    "X_clean_test_df = pd.DataFrame(X_clean_test_matrix.toarray())\n",
    "X_clean_test_df.head()"
   ]
  },
  {
   "cell_type": "markdown",
   "metadata": {},
   "source": [
    "#####  Count of most frequent words in pre-processed X "
   ]
  },
  {
   "cell_type": "code",
   "execution_count": 30,
   "metadata": {},
   "outputs": [],
   "source": [
    "def word_frequency(dataset):\n",
    "\n",
    "    word_freq = {}\n",
    "    upper_limit = 0\n",
    "    \n",
    "    for s in dataset:\n",
    "        string = s.split(' ')\n",
    "        for w in string:\n",
    "            if word_freq.get(w):\n",
    "                word_freq[w] += 1\n",
    "            else:\n",
    "                word_freq[w] = 1\n",
    "\n",
    "    #sort the word_freq dictionary in descending order            \n",
    "    orderd_dict = OrderedDict(sorted(word_freq.items(), key=itemgetter(1), reverse = True))\n",
    "\n",
    "    words =[]\n",
    "    freq = []\n",
    "    count = 0\n",
    "    if dataset == X_clean_train:\n",
    "        upper_limit = 1500\n",
    "    else:\n",
    "        upper_limit = 800\n",
    "    #only most frequent words else we will get a pretty long list of words\n",
    "    for k,v in orderd_dict.items():\n",
    "        if v > upper_limit:\n",
    "            words.append(k)\n",
    "            freq.append(v)\n",
    "    return words, freq"
   ]
  },
  {
   "cell_type": "markdown",
   "metadata": {},
   "source": [
    "##### Plot most common words in X "
   ]
  },
  {
   "cell_type": "code",
   "execution_count": 31,
   "metadata": {},
   "outputs": [],
   "source": [
    "def plot_words(x,y,color,title):\n",
    "    \n",
    "    plt.figure(figsize = (17,8))\n",
    "    plt.style.use('fivethirtyeight')\n",
    "    plt.xlabel('Words', {'fontsize': 14})\n",
    "    plt.ylabel('Count',{'fontsize': 14})\n",
    "    plt.xticks(fontsize = 14, rotation = 'vertical')\n",
    "    plt.title('Top words in ' + title , fontsize = 16)\n",
    "    plt.bar(x,y, color = color)"
   ]
  },
  {
   "cell_type": "code",
   "execution_count": 32,
   "metadata": {},
   "outputs": [
    {
     "data": {
      "image/png": "[encoded data removed]",
      "text/plain": [
       "<Figure size 1224x576 with 1 Axes>"
      ]
     },
     "metadata": {
      "needs_background": "light"
     },
     "output_type": "display_data"
    }
   ],
   "source": [
    "train_words, train_freq = word_frequency(X_clean_train)\n",
    "plot_words(train_words,train_freq,'#603b64','X_train')"
   ]
  },
  {
   "cell_type": "code",
   "execution_count": 33,
   "metadata": {},
   "outputs": [
    {
     "data": {
      "image/png": "[encoded data removed]",
      "text/plain": [
       "<Figure size 1224x576 with 1 Axes>"
      ]
     },
     "metadata": {},
     "output_type": "display_data"
    }
   ],
   "source": [
    "test_words, test_freq = word_frequency(X_clean_test)\n",
    "plot_words(test_words,test_freq,'#418588','X_test')"
   ]
  },
  {
   "cell_type": "markdown",
   "metadata": {},
   "source": [
    "###### Common functions to fit a model, extract confusion matrix, plot confusion matrix and plot CV mean test scores for each fold"
   ]
  },
  {
   "cell_type": "code",
   "execution_count": 36,
   "metadata": {},
   "outputs": [],
   "source": [
    "## Save all the cv_results matrices and grid search objects for each call. Can access them\n",
    "## rather than having to run grid search again as that can take a lot of time.\n",
    "\n",
    "list_of_grid_search_objects = []\n",
    "list_of_cvresults = []"
   ]
  },
  {
   "cell_type": "code",
   "execution_count": 37,
   "metadata": {},
   "outputs": [],
   "source": [
    "def plot_cv_results(xval,yval):\n",
    "    \n",
    "    plt.figure(figsize = (17,8))\n",
    "    plt.style.use('seaborn-whitegrid')\n",
    "    sns.swarmplot(xval,yval,size = 8.0)\n",
    "    plt.xlabel('Max features')\n",
    "    plt.ylabel('Mean test score')\n",
    "    plt.show();"
   ]
  },
  {
   "cell_type": "code",
   "execution_count": 38,
   "metadata": {},
   "outputs": [],
   "source": [
    "def plot_conf_matrix(matrix,cmap):\n",
    "    _ = sns.heatmap(confu_matrix,annot = True, fmt = 'd', cbar = False, cmap = cmap);\n",
    "    plt.show()"
   ]
  },
  {
   "cell_type": "code",
   "execution_count": 39,
   "metadata": {},
   "outputs": [],
   "source": [
    "def conf_matrix(gsobject,xdata,ydata):\n",
    "    predicted = gsobject.predict(xdata)\n",
    "    actual_predicted = pd.DataFrame({\"Actual\" : ydata, \"Predicted\": predicted, 'Text': xdata})\n",
    "    cmatrix = confusion_matrix(ydata,predicted).ravel()\n",
    "    \n",
    "    c_matrix =  pd.DataFrame(cmatrix.reshape(2,2),\n",
    "                        index = ['Actual TIL','Actual Motorcyle'],\n",
    "                        columns= ['Predicted TIL','Predicted Motorcyles'])\n",
    "    return actual_predicted,c_matrix"
   ]
  },
  {
   "cell_type": "code",
   "execution_count": 40,
   "metadata": {},
   "outputs": [],
   "source": [
    "#gs_type = grid search object\n",
    "#xtraindata,xtestdata = xtrain and xtest \n",
    "#ytraindata,ytest = ytrain and ytest\n",
    "def fit_grid_search(gs_type,xtraindata,ytraindata,xtestdata,ytestdata):\n",
    "    start = time.perf_counter()\n",
    "    gs_type.fit(xtraindata,ytraindata)\n",
    "    print(f\"Grid search accuracy for estimator \\033[1m{gs_type.estimator.steps[1][0]}\\033[0m \"\n",
    "          f\"transformer \\033[1m{gs_type.estimator.steps[0][0]}\\033[0m : \\n\")\n",
    "    print(f\"On training data is {gs_type.score(xtraindata,ytraindata)}\")\n",
    "    print(f\"On test data is {gs_type.score(xtestdata,ytestdata)}\")\n",
    "    print(f\"Grid search best score (avg of cv scores) {gs_type.best_score_}\\n\\n\")\n",
    "    print(f\"Model with best fitting parameter is \\n {gs_type.best_estimator_.get_params}\\n\\n\")\n",
    "    #print(gs_type.best_estimator_.named_steps['logisticregression'].coef_)\n",
    "    end = time.perf_counter()\n",
    "    print(f\"Took \\033[1m{ round((end-start)/60,0)}\\033[0m minutes to complete\")\n",
    "    cv_results_df = pd.DataFrame(gs_type.cv_results_)\n",
    "    list_of_grid_search_objects.append(gs_type)\n",
    "    list_of_cvresults.append(cv_results_df)\n",
    "    return cv_results_df,gs_type"
   ]
  },
  {
   "cell_type": "markdown",
   "metadata": {},
   "source": [
    "### Build a LogisticRegression model with raw text using both CountVectorizer and TfidfVectorizer defaults"
   ]
  },
  {
   "cell_type": "code",
   "execution_count": 41,
   "metadata": {},
   "outputs": [],
   "source": [
    "pipette_tfidf = make_pipeline(TfidfVectorizer(),LogisticRegression())\n",
    "pipe_params_tfidf = {\n",
    "    'tfidfvectorizer__max_features': [30_000,40_000,50_000],\n",
    "    'tfidfvectorizer__ngram_range': [ (1,2),(1,3)],\n",
    "    'tfidfvectorizer__min_df' : [5,10], #discard words that appear in less than 2 or 5 documents\n",
    "    'tfidfvectorizer__max_df' : [0.80], #exclude words that cross this threshold(how many documents contained a term)\n",
    "    'tfidfvectorizer__stop_words' : ['english',None],\n",
    "    'logisticregression__max_iter': [600]\n",
    "}"
   ]
  },
  {
   "cell_type": "code",
   "execution_count": 42,
   "metadata": {},
   "outputs": [],
   "source": [
    "gs_tfidf = GridSearchCV(pipette_tfidf, \n",
    "                  pipe_params_tfidf, \n",
    "                  cv = 5 ,\n",
    "                  verbose = 1)"
   ]
  },
  {
   "cell_type": "code",
   "execution_count": 43,
   "metadata": {},
   "outputs": [
    {
     "name": "stdout",
     "output_type": "stream",
     "text": [
      "Fitting 5 folds for each of 24 candidates, totalling 120 fits\n"
     ]
    },
    {
     "name": "stderr",
     "output_type": "stream",
     "text": [
      "[Parallel(n_jobs=1)]: Using backend SequentialBackend with 1 concurrent workers.\n",
      "[Parallel(n_jobs=1)]: Done 120 out of 120 | elapsed:  7.9min finished\n"
     ]
    },
    {
     "name": "stdout",
     "output_type": "stream",
     "text": [
      "Grid search accuracy for estimator \u001b[1mlogisticregression\u001b[0m transformer \u001b[1mtfidfvectorizer\u001b[0m : \n",
      "\n",
      "On training data is 0.991445750204974\n",
      "On test data is 0.9867384308067917\n",
      "Grid search best score (avg of cv scores) 0.983930035528833\n",
      "\n",
      "\n",
      "Model with best fitting parameter is \n",
      " <bound method Pipeline.get_params of Pipeline(memory=None,\n",
      "         steps=[('tfidfvectorizer',\n",
      "                 TfidfVectorizer(analyzer='word', binary=False,\n",
      "                                 decode_error='strict',\n",
      "                                 dtype=<class 'numpy.float64'>,\n",
      "                                 encoding='utf-8', input='content',\n",
      "                                 lowercase=True, max_df=0.8, max_features=40000,\n",
      "                                 min_df=5, ngram_range=(1, 3), norm='l2',\n",
      "                                 preprocessor=None, smooth_idf=True,\n",
      "                                 stop_words=None, strip_accents=None,\n",
      "                                 sublinear_tf=False,\n",
      "                                 token_pattern='(?u)\\\\b\\\\w\\\\w+\\\\b',\n",
      "                                 tokenizer=None, use_idf=True,\n",
      "                                 vocabulary=None)),\n",
      "                ('logisticregression',\n",
      "                 LogisticRegression(C=1.0, class_weight=None, dual=False,\n",
      "                                    fit_intercept=True, intercept_scaling=1,\n",
      "                                    l1_ratio=None, max_iter=600,\n",
      "                                    multi_class='auto', n_jobs=None,\n",
      "                                    penalty='l2', random_state=None,\n",
      "                                    solver='lbfgs', tol=0.0001, verbose=0,\n",
      "                                    warm_start=False))],\n",
      "         verbose=False)>\n",
      "\n",
      "\n",
      "Took \u001b[1m8.0\u001b[0m minutes to complete\n"
     ]
    }
   ],
   "source": [
    "results_tfidf,gs_tfidf_ = fit_grid_search(gs_tfidf,X_train,y_train,X_test,y_test)"
   ]
  },
  {
   "cell_type": "code",
   "execution_count": 51,
   "metadata": {},
   "outputs": [],
   "source": [
    "#coef = gs_tfidf_.best_estimator_.named_steps['logisticregression'].coef_"
   ]
  },
  {
   "cell_type": "code",
   "execution_count": 53,
   "metadata": {},
   "outputs": [
    {
     "name": "stdout",
     "output_type": "stream",
     "text": [
      "\u001b[1mTraining set confusion matrix\u001b[0m\n"
     ]
    },
    {
     "data": {
      "image/png": "[encoded data removed]",
      "text/plain": [
       "<Figure size 432x288 with 1 Axes>"
      ]
     },
     "metadata": {},
     "output_type": "display_data"
    },
    {
     "name": "stdout",
     "output_type": "stream",
     "text": [
      "\u001b[1mTesting set confusion matrix\u001b[0m\n"
     ]
    },
    {
     "data": {
      "image/png": "[encoded data removed]",
      "text/plain": [
       "<Figure size 432x288 with 1 Axes>"
      ]
     },
     "metadata": {},
     "output_type": "display_data"
    }
   ],
   "source": [
    "print(f\"\\033[1mTraining set confusion matrix\\033[0m\")\n",
    "actual_v_predicted_train, confu_matrix = conf_matrix(gs_tfidf_,X_train,y_train)\n",
    "plot_conf_matrix(confu_matrix,'icefire')\n",
    "\n",
    "print(f\"\\033[1mTesting set confusion matrix\\033[0m\")\n",
    "actual_v_predicted_test,confu_matrix = conf_matrix(gs_tfidf_,X_test,y_test)\n",
    "plot_conf_matrix(confu_matrix,'bone')\n",
    "\n",
    "print(classification_report(y_train, gs_tfidf_.predict(X_train),\n",
    "                    target_names=[\"Motorcye\", \"Not Motorcycle\"]))"
   ]
  },
  {
   "cell_type": "code",
   "execution_count": 54,
   "metadata": {},
   "outputs": [
    {
     "data": {
      "image/png": "[encoded data removed]",
      "text/plain": [
       "<Figure size 1224x576 with 1 Axes>"
      ]
     },
     "metadata": {},
     "output_type": "display_data"
    }
   ],
   "source": [
    "plot_cv_results(results_tfidf.param_tfidfvectorizer__max_features,results_tfidf.mean_test_score)"
   ]
  },
  {
   "cell_type": "code",
   "execution_count": 55,
   "metadata": {},
   "outputs": [
    {
     "data": {
      "text/html": [
       "<div>\n",
       "<style scoped>\n",
       "    .dataframe tbody tr th:only-of-type {\n",
       "        vertical-align: middle;\n",
       "    }\n",
       "\n",
       "    .dataframe tbody tr th {\n",
       "        vertical-align: top;\n",
       "    }\n",
       "\n",
       "    .dataframe thead th {\n",
       "        text-align: right;\n",
       "    }\n",
       "</style>\n",
       "<table border=\"1\" class=\"dataframe\">\n",
       "  <thead>\n",
       "    <tr style=\"text-align: right;\">\n",
       "      <th></th>\n",
       "      <th>Actual</th>\n",
       "      <th>Predicted</th>\n",
       "      <th>Text</th>\n",
       "    </tr>\n",
       "  </thead>\n",
       "  <tbody>\n",
       "    <tr>\n",
       "      <th>54421</th>\n",
       "      <td>1</td>\n",
       "      <td>1</td>\n",
       "      <td>Royal Jordanian Goes To The Cinema - Portrait ...</td>\n",
       "    </tr>\n",
       "    <tr>\n",
       "      <th>41640</th>\n",
       "      <td>1</td>\n",
       "      <td>1</td>\n",
       "      <td>Probably goes without saying but, remember not...</td>\n",
       "    </tr>\n",
       "    <tr>\n",
       "      <th>2881</th>\n",
       "      <td>0</td>\n",
       "      <td>0</td>\n",
       "      <td>Streetbillionairementor.com visit and save up ...</td>\n",
       "    </tr>\n",
       "    <tr>\n",
       "      <th>26213</th>\n",
       "      <td>0</td>\n",
       "      <td>0</td>\n",
       "      <td>TIL two men with Aspergers started a successfu...</td>\n",
       "    </tr>\n",
       "    <tr>\n",
       "      <th>12355</th>\n",
       "      <td>0</td>\n",
       "      <td>0</td>\n",
       "      <td>TIL about WWII wooden-hauled devil boats. Thes...</td>\n",
       "    </tr>\n",
       "  </tbody>\n",
       "</table>\n",
       "</div>"
      ],
      "text/plain": [
       "       Actual  Predicted                                               Text\n",
       "54421       1          1  Royal Jordanian Goes To The Cinema - Portrait ...\n",
       "41640       1          1  Probably goes without saying but, remember not...\n",
       "2881        0          0  Streetbillionairementor.com visit and save up ...\n",
       "26213       0          0  TIL two men with Aspergers started a successfu...\n",
       "12355       0          0  TIL about WWII wooden-hauled devil boats. Thes..."
      ]
     },
     "execution_count": 55,
     "metadata": {},
     "output_type": "execute_result"
    },
    {
     "data": {
      "text/html": [
       "<div>\n",
       "<style scoped>\n",
       "    .dataframe tbody tr th:only-of-type {\n",
       "        vertical-align: middle;\n",
       "    }\n",
       "\n",
       "    .dataframe tbody tr th {\n",
       "        vertical-align: top;\n",
       "    }\n",
       "\n",
       "    .dataframe thead th {\n",
       "        text-align: right;\n",
       "    }\n",
       "</style>\n",
       "<table border=\"1\" class=\"dataframe\">\n",
       "  <thead>\n",
       "    <tr style=\"text-align: right;\">\n",
       "      <th></th>\n",
       "      <th>Actual</th>\n",
       "      <th>Predicted</th>\n",
       "      <th>Text</th>\n",
       "    </tr>\n",
       "  </thead>\n",
       "  <tbody>\n",
       "    <tr>\n",
       "      <th>16124</th>\n",
       "      <td>0</td>\n",
       "      <td>0</td>\n",
       "      <td>TIL wheezing sounds like a whale under a steth...</td>\n",
       "    </tr>\n",
       "    <tr>\n",
       "      <th>54488</th>\n",
       "      <td>1</td>\n",
       "      <td>0</td>\n",
       "      <td>I’m begging that someone can make it clear to ...</td>\n",
       "    </tr>\n",
       "    <tr>\n",
       "      <th>54277</th>\n",
       "      <td>1</td>\n",
       "      <td>1</td>\n",
       "      <td>Places to try on boots around Orange County? T...</td>\n",
       "    </tr>\n",
       "    <tr>\n",
       "      <th>2395</th>\n",
       "      <td>0</td>\n",
       "      <td>0</td>\n",
       "      <td>TIL Our Sun has \"Sunquakes\" generating waves r...</td>\n",
       "    </tr>\n",
       "    <tr>\n",
       "      <th>28871</th>\n",
       "      <td>0</td>\n",
       "      <td>0</td>\n",
       "      <td>TIL if the salt in the ocean could be removed ...</td>\n",
       "    </tr>\n",
       "  </tbody>\n",
       "</table>\n",
       "</div>"
      ],
      "text/plain": [
       "       Actual  Predicted                                               Text\n",
       "16124       0          0  TIL wheezing sounds like a whale under a steth...\n",
       "54488       1          0  I’m begging that someone can make it clear to ...\n",
       "54277       1          1  Places to try on boots around Orange County? T...\n",
       "2395        0          0  TIL Our Sun has \"Sunquakes\" generating waves r...\n",
       "28871       0          0  TIL if the salt in the ocean could be removed ..."
      ]
     },
     "execution_count": 55,
     "metadata": {},
     "output_type": "execute_result"
    }
   ],
   "source": [
    "actual_v_predicted_train.head()\n",
    "actual_v_predicted_test.head()"
   ]
  },
  {
   "cell_type": "code",
   "execution_count": 56,
   "metadata": {},
   "outputs": [],
   "source": [
    "pipette_cvect = make_pipeline(CountVectorizer(),LogisticRegression())\n",
    "pipe_params_cvect = {\n",
    "    'countvectorizer__max_features': [3_000,4_000,5_000],\n",
    "    'countvectorizer__ngram_range': [(1,3),(1,2)],\n",
    "    'countvectorizer__min_df' : [10], #discard words that appear in less than 2 or 5 documents\n",
    "    'countvectorizer__max_df' : [0.7,0.9], #exclude words that cross this threshold(how many docs contained a term)\n",
    "    'countvectorizer__stop_words' : ['english',None],\n",
    "    'logisticregression__max_iter': [600]\n",
    "}"
   ]
  },
  {
   "cell_type": "code",
   "execution_count": 57,
   "metadata": {},
   "outputs": [],
   "source": [
    "gs_cvect = GridSearchCV(pipette_cvect, \n",
    "                  pipe_params_cvect, \n",
    "                  cv = 5,\n",
    "                  verbose = 1)"
   ]
  },
  {
   "cell_type": "code",
   "execution_count": 58,
   "metadata": {},
   "outputs": [
    {
     "name": "stdout",
     "output_type": "stream",
     "text": [
      "Fitting 5 folds for each of 24 candidates, totalling 120 fits\n"
     ]
    },
    {
     "name": "stderr",
     "output_type": "stream",
     "text": [
      "[Parallel(n_jobs=1)]: Using backend SequentialBackend with 1 concurrent workers.\n",
      "[Parallel(n_jobs=1)]: Done 120 out of 120 | elapsed:  7.9min finished\n"
     ]
    },
    {
     "name": "stdout",
     "output_type": "stream",
     "text": [
      "Grid search accuracy for estimator \u001b[1mlogisticregression\u001b[0m transformer \u001b[1mcountvectorizer\u001b[0m : \n",
      "\n",
      "On training data is 0.9912271112325772\n",
      "On test data is 0.9839640439462879\n",
      "Grid search best score (avg of cv scores) 0.9808144301721782\n",
      "\n",
      "\n",
      "Model with best fitting parameter is \n",
      " <bound method Pipeline.get_params of Pipeline(memory=None,\n",
      "         steps=[('countvectorizer',\n",
      "                 CountVectorizer(analyzer='word', binary=False,\n",
      "                                 decode_error='strict',\n",
      "                                 dtype=<class 'numpy.int64'>, encoding='utf-8',\n",
      "                                 input='content', lowercase=True, max_df=0.7,\n",
      "                                 max_features=5000, min_df=10,\n",
      "                                 ngram_range=(1, 3), preprocessor=None,\n",
      "                                 stop_words=None, strip_accents=None,\n",
      "                                 token_pattern='(?u)\\\\b\\\\w\\\\w+\\\\b',\n",
      "                                 tokenizer=None, vocabulary=None)),\n",
      "                ('logisticregression',\n",
      "                 LogisticRegression(C=1.0, class_weight=None, dual=False,\n",
      "                                    fit_intercept=True, intercept_scaling=1,\n",
      "                                    l1_ratio=None, max_iter=600,\n",
      "                                    multi_class='auto', n_jobs=None,\n",
      "                                    penalty='l2', random_state=None,\n",
      "                                    solver='lbfgs', tol=0.0001, verbose=0,\n",
      "                                    warm_start=False))],\n",
      "         verbose=False)>\n",
      "\n",
      "\n",
      "Took \u001b[1m8.0\u001b[0m minutes to complete\n"
     ]
    }
   ],
   "source": [
    "results_cvect,gs_cvect_ = fit_grid_search(gs_cvect,X_train,y_train,X_test,y_test)"
   ]
  },
  {
   "cell_type": "code",
   "execution_count": 59,
   "metadata": {},
   "outputs": [
    {
     "name": "stdout",
     "output_type": "stream",
     "text": [
      "\u001b[1mTraining set confusion matrix\u001b[0m\n"
     ]
    },
    {
     "data": {
      "image/png": "[encoded data removed]",
      "text/plain": [
       "<Figure size 432x288 with 1 Axes>"
      ]
     },
     "metadata": {},
     "output_type": "display_data"
    },
    {
     "name": "stdout",
     "output_type": "stream",
     "text": [
      "\u001b[1mTesting set confusion matrix\u001b[0m\n"
     ]
    },
    {
     "data": {
      "image/png": "[encoded data removed]",
      "text/plain": [
       "<Figure size 432x288 with 1 Axes>"
      ]
     },
     "metadata": {},
     "output_type": "display_data"
    }
   ],
   "source": [
    "print(f\"\\033[1mTraining set confusion matrix\\033[0m\")\n",
    "actual_v_predicted_train, confu_matrix = conf_matrix(gs_cvect_,X_train,y_train)\n",
    "plot_conf_matrix(confu_matrix,'binary')\n",
    "\n",
    "print(f\"\\033[1mTesting set confusion matrix\\033[0m\")\n",
    "actual_v_predicted_test,confu_matrix = conf_matrix(gs_cvect_,X_test,y_test)\n",
    "plot_conf_matrix(confu_matrix,'jet')"
   ]
  },
  {
   "cell_type": "code",
   "execution_count": 60,
   "metadata": {},
   "outputs": [
    {
     "data": {
      "image/png": "[encoded data removed]",
      "text/plain": [
       "<Figure size 1224x576 with 1 Axes>"
      ]
     },
     "metadata": {},
     "output_type": "display_data"
    }
   ],
   "source": [
    "plot_cv_results(results_cvect.param_countvectorizer__max_features,results_cvect.mean_test_score)"
   ]
  },
  {
   "cell_type": "markdown",
   "metadata": {},
   "source": [
    "### Build a LogisticRegression model on processed data using both CountVectorizer and TfidfVectorizer on pre-processed data\n"
   ]
  },
  {
   "cell_type": "code",
   "execution_count": 61,
   "metadata": {},
   "outputs": [],
   "source": [
    "pipette_tfidf = make_pipeline(TfidfVectorizer(),LogisticRegression())\n",
    "pipe_params_tfidf = {\n",
    "    'tfidfvectorizer__max_features': [30_00,4_000,5_000],\n",
    "    'tfidfvectorizer__ngram_range': [ (1,2),(1,3) ],\n",
    "    'tfidfvectorizer__min_df' : [5,10], #discard words that appear in less than 5 or 10 documents\n",
    "    'tfidfvectorizer__max_df' : [0.6,0.8],#exclude words that cross this threshold(how many docs contained a term)\n",
    "    'tfidfvectorizer__stop_words' : [None],\n",
    "    'logisticregression__max_iter': [600]\n",
    "}"
   ]
  },
  {
   "cell_type": "code",
   "execution_count": 62,
   "metadata": {},
   "outputs": [],
   "source": [
    "gs_tfidf = GridSearchCV(pipette_tfidf, \n",
    "                  pipe_params_tfidf, \n",
    "                  cv = 5,\n",
    "                  verbose = 1)"
   ]
  },
  {
   "cell_type": "code",
   "execution_count": 63,
   "metadata": {},
   "outputs": [
    {
     "name": "stdout",
     "output_type": "stream",
     "text": [
      "Fitting 5 folds for each of 24 candidates, totalling 120 fits\n"
     ]
    },
    {
     "name": "stderr",
     "output_type": "stream",
     "text": [
      "[Parallel(n_jobs=1)]: Using backend SequentialBackend with 1 concurrent workers.\n",
      "[Parallel(n_jobs=1)]: Done 120 out of 120 | elapsed:  4.6min finished\n"
     ]
    },
    {
     "name": "stdout",
     "output_type": "stream",
     "text": [
      "Grid search accuracy for estimator \u001b[1mlogisticregression\u001b[0m transformer \u001b[1mtfidfvectorizer\u001b[0m : \n",
      "\n",
      "On training data is 0.9711396556436185\n",
      "On test data is 0.9641549217622906\n",
      "Grid search best score (avg of cv scores) 0.960481005739273\n",
      "\n",
      "\n",
      "Model with best fitting parameter is \n",
      " <bound method Pipeline.get_params of Pipeline(memory=None,\n",
      "         steps=[('tfidfvectorizer',\n",
      "                 TfidfVectorizer(analyzer='word', binary=False,\n",
      "                                 decode_error='strict',\n",
      "                                 dtype=<class 'numpy.float64'>,\n",
      "                                 encoding='utf-8', input='content',\n",
      "                                 lowercase=True, max_df=0.6, max_features=5000,\n",
      "                                 min_df=10, ngram_range=(1, 3), norm='l2',\n",
      "                                 preprocessor=None, smooth_idf=True,\n",
      "                                 stop_words=None, strip_accents=None,\n",
      "                                 sublinear_tf=False,\n",
      "                                 token_pattern='(?u)\\\\b\\\\w\\\\w+\\\\b',\n",
      "                                 tokenizer=None, use_idf=True,\n",
      "                                 vocabulary=None)),\n",
      "                ('logisticregression',\n",
      "                 LogisticRegression(C=1.0, class_weight=None, dual=False,\n",
      "                                    fit_intercept=True, intercept_scaling=1,\n",
      "                                    l1_ratio=None, max_iter=600,\n",
      "                                    multi_class='auto', n_jobs=None,\n",
      "                                    penalty='l2', random_state=None,\n",
      "                                    solver='lbfgs', tol=0.0001, verbose=0,\n",
      "                                    warm_start=False))],\n",
      "         verbose=False)>\n",
      "\n",
      "\n",
      "Took \u001b[1m5.0\u001b[0m minutes to complete\n"
     ]
    }
   ],
   "source": [
    "results_tfidf_,gs_tfidf_ = fit_grid_search(gs_tfidf,X_clean_train,y_train,X_clean_test,y_test)"
   ]
  },
  {
   "cell_type": "code",
   "execution_count": 64,
   "metadata": {},
   "outputs": [
    {
     "name": "stdout",
     "output_type": "stream",
     "text": [
      "\u001b[1mTraining set confusion matrix\u001b[0m\n"
     ]
    },
    {
     "data": {
      "image/png": "[encoded data removed]",
      "text/plain": [
       "<Figure size 432x288 with 1 Axes>"
      ]
     },
     "metadata": {},
     "output_type": "display_data"
    },
    {
     "name": "stdout",
     "output_type": "stream",
     "text": [
      "\u001b[1mTesting set confusion matrix\u001b[0m\n"
     ]
    },
    {
     "data": {
      "image/png": "[encoded data removed]",
      "text/plain": [
       "<Figure size 432x288 with 1 Axes>"
      ]
     },
     "metadata": {},
     "output_type": "display_data"
    }
   ],
   "source": [
    "print(f\"\\033[1mTraining set confusion matrix\\033[0m\")\n",
    "actual_v_predicted_train, confu_matrix = conf_matrix(gs_tfidf_,X_clean_train,y_train)\n",
    "plot_conf_matrix(confu_matrix, 'nipy_spectral_r');\n",
    "\n",
    "print(f\"\\033[1mTesting set confusion matrix\\033[0m\")\n",
    "actual_v_predicted_test,confu_matrix = conf_matrix(gs_tfidf_,X_clean_test,y_test)\n",
    "plot_conf_matrix(confu_matrix,'rainbow');\n"
   ]
  },
  {
   "cell_type": "code",
   "execution_count": 65,
   "metadata": {},
   "outputs": [
    {
     "data": {
      "image/png": "[encoded data removed]",
      "text/plain": [
       "<Figure size 1224x576 with 1 Axes>"
      ]
     },
     "metadata": {},
     "output_type": "display_data"
    }
   ],
   "source": [
    "plot_cv_results(results_tfidf_.param_tfidfvectorizer__max_features,results_tfidf_.mean_test_score)"
   ]
  },
  {
   "cell_type": "code",
   "execution_count": 66,
   "metadata": {},
   "outputs": [],
   "source": [
    "pipette_cvect = make_pipeline(CountVectorizer(),LogisticRegression())\n",
    "pipe_params_cvect = {\n",
    "    'countvectorizer__max_features': [25_000,35_000,50_000],\n",
    "    'countvectorizer__ngram_range': [(1,2),(1,3)], #discard words that appear in less than 5 or 10 documents\n",
    "    'countvectorizer__min_df' : [5, 10], #exclude words that cross this threshold(how many docs contained a term)\n",
    "    'countvectorizer__max_df' : [0.85, 0.95],\n",
    "    'countvectorizer__stop_words' : [None],\n",
    "    'logisticregression__max_iter': [600]\n",
    "}"
   ]
  },
  {
   "cell_type": "code",
   "execution_count": 67,
   "metadata": {},
   "outputs": [],
   "source": [
    "gs_cvect = GridSearchCV(pipette_cvect, \n",
    "                  pipe_params_cvect, \n",
    "                  cv = 5,\n",
    "                  verbose = 1)"
   ]
  },
  {
   "cell_type": "code",
   "execution_count": 68,
   "metadata": {},
   "outputs": [
    {
     "name": "stdout",
     "output_type": "stream",
     "text": [
      "Fitting 5 folds for each of 24 candidates, totalling 120 fits\n"
     ]
    },
    {
     "name": "stderr",
     "output_type": "stream",
     "text": [
      "[Parallel(n_jobs=1)]: Using backend SequentialBackend with 1 concurrent workers.\n",
      "[Parallel(n_jobs=1)]: Done 120 out of 120 | elapsed:  5.0min finished\n"
     ]
    },
    {
     "name": "stdout",
     "output_type": "stream",
     "text": [
      "Grid search accuracy for estimator \u001b[1mlogisticregression\u001b[0m transformer \u001b[1mcountvectorizer\u001b[0m : \n",
      "\n",
      "On training data is 0.9899426072697458\n",
      "On test data is 0.982632338253246\n",
      "Grid search best score (avg of cv scores) 0.9768515987974856\n",
      "\n",
      "\n",
      "Model with best fitting parameter is \n",
      " <bound method Pipeline.get_params of Pipeline(memory=None,\n",
      "         steps=[('countvectorizer',\n",
      "                 CountVectorizer(analyzer='word', binary=False,\n",
      "                                 decode_error='strict',\n",
      "                                 dtype=<class 'numpy.int64'>, encoding='utf-8',\n",
      "                                 input='content', lowercase=True, max_df=0.85,\n",
      "                                 max_features=50000, min_df=5,\n",
      "                                 ngram_range=(1, 3), preprocessor=None,\n",
      "                                 stop_words=None, strip_accents=None,\n",
      "                                 token_pattern='(?u)\\\\b\\\\w\\\\w+\\\\b',\n",
      "                                 tokenizer=None, vocabulary=None)),\n",
      "                ('logisticregression',\n",
      "                 LogisticRegression(C=1.0, class_weight=None, dual=False,\n",
      "                                    fit_intercept=True, intercept_scaling=1,\n",
      "                                    l1_ratio=None, max_iter=600,\n",
      "                                    multi_class='auto', n_jobs=None,\n",
      "                                    penalty='l2', random_state=None,\n",
      "                                    solver='lbfgs', tol=0.0001, verbose=0,\n",
      "                                    warm_start=False))],\n",
      "         verbose=False)>\n",
      "\n",
      "\n",
      "Took \u001b[1m5.0\u001b[0m minutes to complete\n"
     ]
    }
   ],
   "source": [
    "results_cvect_,gs_cvect_ = fit_grid_search(gs_cvect,X_clean_train,y_train,X_clean_test,y_test)"
   ]
  },
  {
   "cell_type": "code",
   "execution_count": 69,
   "metadata": {},
   "outputs": [
    {
     "name": "stdout",
     "output_type": "stream",
     "text": [
      "\u001b[1mTraining set confusion matrix\u001b[0m\n"
     ]
    },
    {
     "data": {
      "image/png": "[encoded data removed]",
      "text/plain": [
       "<Figure size 432x288 with 1 Axes>"
      ]
     },
     "metadata": {},
     "output_type": "display_data"
    },
    {
     "name": "stdout",
     "output_type": "stream",
     "text": [
      "\u001b[1mTesting set confusion matrix\u001b[0m\n"
     ]
    },
    {
     "data": {
      "image/png": "[encoded data removed]",
      "text/plain": [
       "<Figure size 432x288 with 1 Axes>"
      ]
     },
     "metadata": {},
     "output_type": "display_data"
    }
   ],
   "source": [
    "print(f\"\\033[1mTraining set confusion matrix\\033[0m\")\n",
    "actual_v_predicted_train, confu_matrix = conf_matrix(gs_cvect_,X_clean_train,y_train)\n",
    "plot_conf_matrix(confu_matrix,cmap = 'gnuplot');\n",
    "\n",
    "print(f\"\\033[1mTesting set confusion matrix\\033[0m\")\n",
    "actual_v_predicted_test,confu_matrix = conf_matrix(gs_cvect_,X_clean_test,y_test)\n",
    "plot_conf_matrix(confu_matrix,'copper');"
   ]
  },
  {
   "cell_type": "code",
   "execution_count": 70,
   "metadata": {},
   "outputs": [
    {
     "data": {
      "image/png": "[encoded data removed]",
      "text/plain": [
       "<Figure size 1224x576 with 1 Axes>"
      ]
     },
     "metadata": {},
     "output_type": "display_data"
    }
   ],
   "source": [
    "plot_cv_results(results_cvect_.param_countvectorizer__max_features,results_cvect_.mean_test_score)"
   ]
  },
  {
   "cell_type": "markdown",
   "metadata": {},
   "source": [
    "#### MultinomialNB model using CoutVectorizer and TfidfVectorizer on processed data using defaults"
   ]
  },
  {
   "cell_type": "code",
   "execution_count": 72,
   "metadata": {},
   "outputs": [
    {
     "name": "stdout",
     "output_type": "stream",
     "text": [
      "Fitting 5 folds for each of 24 candidates, totalling 120 fits\n"
     ]
    },
    {
     "name": "stderr",
     "output_type": "stream",
     "text": [
      "[Parallel(n_jobs=1)]: Using backend SequentialBackend with 1 concurrent workers.\n",
      "[Parallel(n_jobs=1)]: Done 120 out of 120 | elapsed:  4.3min finished\n"
     ]
    },
    {
     "name": "stdout",
     "output_type": "stream",
     "text": [
      "Grid search accuracy for estimator \u001b[1mmultinomialnb\u001b[0m transformer \u001b[1mcountvectorizer\u001b[0m : \n",
      "\n",
      "On training data is 0.9650177644165072\n",
      "On test data is 0.9597713905226944\n",
      "Grid search best score (avg of cv scores) 0.9571194315386717\n",
      "\n",
      "\n",
      "Model with best fitting parameter is \n",
      " <bound method Pipeline.get_params of Pipeline(memory=None,\n",
      "         steps=[('countvectorizer',\n",
      "                 CountVectorizer(analyzer='word', binary=False,\n",
      "                                 decode_error='strict',\n",
      "                                 dtype=<class 'numpy.int64'>, encoding='utf-8',\n",
      "                                 input='content', lowercase=True, max_df=0.85,\n",
      "                                 max_features=45000, min_df=5,\n",
      "                                 ngram_range=(1, 3), preprocessor=None,\n",
      "                                 stop_words=None, strip_accents=None,\n",
      "                                 token_pattern='(?u)\\\\b\\\\w\\\\w+\\\\b',\n",
      "                                 tokenizer=None, vocabulary=None)),\n",
      "                ('multinomialnb',\n",
      "                 MultinomialNB(alpha=1, class_prior=None, fit_prior=True))],\n",
      "         verbose=False)>\n",
      "\n",
      "\n",
      "Took \u001b[1m4.0\u001b[0m minutes to complete\n"
     ]
    }
   ],
   "source": [
    "pipette_cvect_mn = make_pipeline(CountVectorizer(),MultinomialNB())\n",
    "\n",
    "pipe_params_cvect_mn = {\n",
    "    'countvectorizer__max_features': [20_000,35_000,45_000],\n",
    "    'countvectorizer__ngram_range': [(1,2),(1,3)],\n",
    "    'countvectorizer__min_df' : [5, 10],\n",
    "    'countvectorizer__max_df' : [0.85, 0.95],\n",
    "    'countvectorizer__stop_words' : [None],\n",
    "    'multinomialnb__alpha': [1]\n",
    "}\n",
    "\n",
    "gs_cvect_mn = GridSearchCV(pipette_cvect_mn,\n",
    "                          pipe_params_cvect_mn,\n",
    "                          cv = 5, verbose = 1)\n",
    "\n",
    "results_cvect_mn,gs_cvect_mn = fit_grid_search(gs_cvect_mn,X_clean_train,y_train,X_clean_test,y_test)"
   ]
  },
  {
   "cell_type": "code",
   "execution_count": 73,
   "metadata": {},
   "outputs": [
    {
     "name": "stdout",
     "output_type": "stream",
     "text": [
      "\u001b[1mTraining set confusion matrix\u001b[0m\n"
     ]
    },
    {
     "data": {
      "image/png": "[encoded data removed]",
      "text/plain": [
       "<Figure size 432x288 with 1 Axes>"
      ]
     },
     "metadata": {},
     "output_type": "display_data"
    },
    {
     "name": "stdout",
     "output_type": "stream",
     "text": [
      "\u001b[1mTesting set confusion matrix\u001b[0m\n"
     ]
    },
    {
     "data": {
      "image/png": "[encoded data removed]",
      "text/plain": [
       "<Figure size 432x288 with 1 Axes>"
      ]
     },
     "metadata": {},
     "output_type": "display_data"
    }
   ],
   "source": [
    "print(f\"\\033[1mTraining set confusion matrix\\033[0m\")\n",
    "actual_v_predicted_train, confu_matrix = conf_matrix(gs_cvect_mn,X_clean_train,y_train)\n",
    "plot_conf_matrix(confu_matrix,'afmhot_r');\n",
    "\n",
    "print(f\"\\033[1mTesting set confusion matrix\\033[0m\")\n",
    "actual_v_predicted_test,confu_matrix = conf_matrix(gs_cvect_mn,X_clean_test,y_test)\n",
    "plot_conf_matrix(confu_matrix,'autumn_r');\n"
   ]
  },
  {
   "cell_type": "code",
   "execution_count": 74,
   "metadata": {},
   "outputs": [
    {
     "data": {
      "image/png": "[encoded data removed]",
      "text/plain": [
       "<Figure size 1224x576 with 1 Axes>"
      ]
     },
     "metadata": {},
     "output_type": "display_data"
    }
   ],
   "source": [
    "plot_cv_results(results_cvect_mn.param_countvectorizer__max_features,results_cvect_mn.mean_test_score)"
   ]
  },
  {
   "cell_type": "code",
   "execution_count": 75,
   "metadata": {},
   "outputs": [
    {
     "name": "stdout",
     "output_type": "stream",
     "text": [
      "Fitting 5 folds for each of 24 candidates, totalling 120 fits\n"
     ]
    },
    {
     "name": "stderr",
     "output_type": "stream",
     "text": [
      "[Parallel(n_jobs=1)]: Using backend SequentialBackend with 1 concurrent workers.\n",
      "[Parallel(n_jobs=1)]: Done 120 out of 120 | elapsed:  4.6min finished\n"
     ]
    },
    {
     "name": "stdout",
     "output_type": "stream",
     "text": [
      "Grid search accuracy for estimator \u001b[1mmultinomialnb\u001b[0m transformer \u001b[1mtfidfvectorizer\u001b[0m : \n",
      "\n",
      "On training data is 0.9741459415140749\n",
      "On test data is 0.9690378426367773\n",
      "Grid search best score (avg of cv scores) 0.964006559169172\n",
      "\n",
      "\n",
      "Model with best fitting parameter is \n",
      " <bound method Pipeline.get_params of Pipeline(memory=None,\n",
      "         steps=[('tfidfvectorizer',\n",
      "                 TfidfVectorizer(analyzer='word', binary=False,\n",
      "                                 decode_error='strict',\n",
      "                                 dtype=<class 'numpy.float64'>,\n",
      "                                 encoding='utf-8', input='content',\n",
      "                                 lowercase=True, max_df=0.85,\n",
      "                                 max_features=35000, min_df=5,\n",
      "                                 ngram_range=(1, 2), norm='l2',\n",
      "                                 preprocessor=None, smooth_idf=True,\n",
      "                                 stop_words=None, strip_accents=None,\n",
      "                                 sublinear_tf=False,\n",
      "                                 token_pattern='(?u)\\\\b\\\\w\\\\w+\\\\b',\n",
      "                                 tokenizer=None, use_idf=True,\n",
      "                                 vocabulary=None)),\n",
      "                ('multinomialnb',\n",
      "                 MultinomialNB(alpha=1, class_prior=None, fit_prior=True))],\n",
      "         verbose=False)>\n",
      "\n",
      "\n",
      "Took \u001b[1m5.0\u001b[0m minutes to complete\n"
     ]
    }
   ],
   "source": [
    "pipette_tfidf_mn = make_pipeline(TfidfVectorizer(),MultinomialNB())\n",
    "\n",
    "pipe_params_tfidf_mn = {\n",
    "    'tfidfvectorizer__max_features': [35_000,45_000,55_000],\n",
    "    'tfidfvectorizer__ngram_range': [ (1,2),(1,3)],\n",
    "    'tfidfvectorizer__min_df' : [5, 10],\n",
    "    'tfidfvectorizer__max_df' : [0.85, 0.95],\n",
    "    'tfidfvectorizer__stop_words' : [None],\n",
    "    'multinomialnb__alpha': [1]\n",
    "}\n",
    "\n",
    "gs_tfidf_mn = GridSearchCV(pipette_tfidf_mn,\n",
    "                             pipe_params_tfidf_mn,\n",
    "                             cv = 5, verbose = 1)\n",
    "\n",
    "results_tfidf_mn,gs_tfidf_mn = fit_grid_search(gs_tfidf_mn,X_clean_train,y_train,X_clean_test,y_test)"
   ]
  },
  {
   "cell_type": "code",
   "execution_count": 76,
   "metadata": {},
   "outputs": [
    {
     "name": "stdout",
     "output_type": "stream",
     "text": [
      "\u001b[1mTraining set confusion matrix\u001b[0m\n"
     ]
    },
    {
     "data": {
      "image/png": "[encoded data removed]",
      "text/plain": [
       "<Figure size 432x288 with 1 Axes>"
      ]
     },
     "metadata": {},
     "output_type": "display_data"
    },
    {
     "name": "stdout",
     "output_type": "stream",
     "text": [
      "\u001b[1mTesting set confusion matrix\u001b[0m\n"
     ]
    },
    {
     "data": {
      "image/png": "[encoded data removed]",
      "text/plain": [
       "<Figure size 432x288 with 1 Axes>"
      ]
     },
     "metadata": {},
     "output_type": "display_data"
    }
   ],
   "source": [
    "print(f\"\\033[1mTraining set confusion matrix\\033[0m\")\n",
    "actual_v_predicted_train, confu_matrix = conf_matrix(gs_tfidf_mn,X_clean_train,y_train)\n",
    "plot_conf_matrix(confu_matrix, 'hot');\n",
    "\n",
    "print(f\"\\033[1mTesting set confusion matrix\\033[0m\")\n",
    "actual_v_predicted_test,confu_matrix = conf_matrix(gs_tfidf_mn,X_clean_test,y_test)\n",
    "plot_conf_matrix(confu_matrix,'gist_ncar');"
   ]
  },
  {
   "cell_type": "code",
   "execution_count": 77,
   "metadata": {},
   "outputs": [
    {
     "data": {
      "image/png": "[encoded data removed]",
      "text/plain": [
       "<Figure size 1224x576 with 1 Axes>"
      ]
     },
     "metadata": {},
     "output_type": "display_data"
    }
   ],
   "source": [
    "plot_cv_results(results_tfidf_mn.param_tfidfvectorizer__max_features,results_tfidf_mn.mean_test_score)"
   ]
  },
  {
   "cell_type": "markdown",
   "metadata": {},
   "source": [
    " ### Finally a simple decision tree modeled using raw data"
   ]
  },
  {
   "cell_type": "code",
   "execution_count": 78,
   "metadata": {},
   "outputs": [],
   "source": [
    "cvect = CountVectorizer()\n",
    "dtree_X_train = cvect.fit_transform(X_train).toarray()\n",
    "dtree_X_test = cvect.transform(X_test).toarray()"
   ]
  },
  {
   "cell_type": "code",
   "execution_count": 79,
   "metadata": {},
   "outputs": [
    {
     "data": {
      "text/html": [
       "<div>\n",
       "<style scoped>\n",
       "    .dataframe tbody tr th:only-of-type {\n",
       "        vertical-align: middle;\n",
       "    }\n",
       "\n",
       "    .dataframe tbody tr th {\n",
       "        vertical-align: top;\n",
       "    }\n",
       "\n",
       "    .dataframe thead th {\n",
       "        text-align: right;\n",
       "    }\n",
       "</style>\n",
       "<table border=\"1\" class=\"dataframe\">\n",
       "  <thead>\n",
       "    <tr style=\"text-align: right;\">\n",
       "      <th></th>\n",
       "      <th>0</th>\n",
       "      <th>1</th>\n",
       "      <th>2</th>\n",
       "      <th>3</th>\n",
       "      <th>4</th>\n",
       "      <th>5</th>\n",
       "      <th>6</th>\n",
       "      <th>7</th>\n",
       "      <th>8</th>\n",
       "      <th>9</th>\n",
       "      <th>...</th>\n",
       "      <th>40418</th>\n",
       "      <th>40419</th>\n",
       "      <th>40420</th>\n",
       "      <th>40421</th>\n",
       "      <th>40422</th>\n",
       "      <th>40423</th>\n",
       "      <th>40424</th>\n",
       "      <th>40425</th>\n",
       "      <th>40426</th>\n",
       "      <th>40427</th>\n",
       "    </tr>\n",
       "  </thead>\n",
       "  <tbody>\n",
       "    <tr>\n",
       "      <th>0</th>\n",
       "      <td>0</td>\n",
       "      <td>0</td>\n",
       "      <td>0</td>\n",
       "      <td>0</td>\n",
       "      <td>0</td>\n",
       "      <td>0</td>\n",
       "      <td>0</td>\n",
       "      <td>0</td>\n",
       "      <td>0</td>\n",
       "      <td>0</td>\n",
       "      <td>...</td>\n",
       "      <td>0</td>\n",
       "      <td>0</td>\n",
       "      <td>0</td>\n",
       "      <td>0</td>\n",
       "      <td>0</td>\n",
       "      <td>0</td>\n",
       "      <td>0</td>\n",
       "      <td>0</td>\n",
       "      <td>0</td>\n",
       "      <td>0</td>\n",
       "    </tr>\n",
       "    <tr>\n",
       "      <th>1</th>\n",
       "      <td>0</td>\n",
       "      <td>0</td>\n",
       "      <td>0</td>\n",
       "      <td>0</td>\n",
       "      <td>0</td>\n",
       "      <td>0</td>\n",
       "      <td>0</td>\n",
       "      <td>0</td>\n",
       "      <td>0</td>\n",
       "      <td>0</td>\n",
       "      <td>...</td>\n",
       "      <td>0</td>\n",
       "      <td>0</td>\n",
       "      <td>0</td>\n",
       "      <td>0</td>\n",
       "      <td>0</td>\n",
       "      <td>0</td>\n",
       "      <td>0</td>\n",
       "      <td>0</td>\n",
       "      <td>0</td>\n",
       "      <td>0</td>\n",
       "    </tr>\n",
       "    <tr>\n",
       "      <th>2</th>\n",
       "      <td>0</td>\n",
       "      <td>0</td>\n",
       "      <td>0</td>\n",
       "      <td>0</td>\n",
       "      <td>0</td>\n",
       "      <td>0</td>\n",
       "      <td>0</td>\n",
       "      <td>0</td>\n",
       "      <td>0</td>\n",
       "      <td>0</td>\n",
       "      <td>...</td>\n",
       "      <td>0</td>\n",
       "      <td>0</td>\n",
       "      <td>0</td>\n",
       "      <td>0</td>\n",
       "      <td>0</td>\n",
       "      <td>0</td>\n",
       "      <td>0</td>\n",
       "      <td>0</td>\n",
       "      <td>0</td>\n",
       "      <td>0</td>\n",
       "    </tr>\n",
       "    <tr>\n",
       "      <th>3</th>\n",
       "      <td>0</td>\n",
       "      <td>1</td>\n",
       "      <td>0</td>\n",
       "      <td>0</td>\n",
       "      <td>0</td>\n",
       "      <td>0</td>\n",
       "      <td>0</td>\n",
       "      <td>0</td>\n",
       "      <td>0</td>\n",
       "      <td>0</td>\n",
       "      <td>...</td>\n",
       "      <td>0</td>\n",
       "      <td>0</td>\n",
       "      <td>0</td>\n",
       "      <td>0</td>\n",
       "      <td>0</td>\n",
       "      <td>0</td>\n",
       "      <td>0</td>\n",
       "      <td>0</td>\n",
       "      <td>0</td>\n",
       "      <td>0</td>\n",
       "    </tr>\n",
       "    <tr>\n",
       "      <th>4</th>\n",
       "      <td>0</td>\n",
       "      <td>0</td>\n",
       "      <td>0</td>\n",
       "      <td>0</td>\n",
       "      <td>0</td>\n",
       "      <td>0</td>\n",
       "      <td>0</td>\n",
       "      <td>0</td>\n",
       "      <td>0</td>\n",
       "      <td>0</td>\n",
       "      <td>...</td>\n",
       "      <td>0</td>\n",
       "      <td>0</td>\n",
       "      <td>0</td>\n",
       "      <td>0</td>\n",
       "      <td>0</td>\n",
       "      <td>0</td>\n",
       "      <td>0</td>\n",
       "      <td>0</td>\n",
       "      <td>0</td>\n",
       "      <td>0</td>\n",
       "    </tr>\n",
       "    <tr>\n",
       "      <th>...</th>\n",
       "      <td>...</td>\n",
       "      <td>...</td>\n",
       "      <td>...</td>\n",
       "      <td>...</td>\n",
       "      <td>...</td>\n",
       "      <td>...</td>\n",
       "      <td>...</td>\n",
       "      <td>...</td>\n",
       "      <td>...</td>\n",
       "      <td>...</td>\n",
       "      <td>...</td>\n",
       "      <td>...</td>\n",
       "      <td>...</td>\n",
       "      <td>...</td>\n",
       "      <td>...</td>\n",
       "      <td>...</td>\n",
       "      <td>...</td>\n",
       "      <td>...</td>\n",
       "      <td>...</td>\n",
       "      <td>...</td>\n",
       "      <td>...</td>\n",
       "    </tr>\n",
       "    <tr>\n",
       "      <th>18017</th>\n",
       "      <td>0</td>\n",
       "      <td>0</td>\n",
       "      <td>0</td>\n",
       "      <td>0</td>\n",
       "      <td>0</td>\n",
       "      <td>0</td>\n",
       "      <td>0</td>\n",
       "      <td>0</td>\n",
       "      <td>0</td>\n",
       "      <td>0</td>\n",
       "      <td>...</td>\n",
       "      <td>0</td>\n",
       "      <td>0</td>\n",
       "      <td>0</td>\n",
       "      <td>0</td>\n",
       "      <td>0</td>\n",
       "      <td>0</td>\n",
       "      <td>0</td>\n",
       "      <td>0</td>\n",
       "      <td>0</td>\n",
       "      <td>0</td>\n",
       "    </tr>\n",
       "    <tr>\n",
       "      <th>18018</th>\n",
       "      <td>0</td>\n",
       "      <td>0</td>\n",
       "      <td>0</td>\n",
       "      <td>0</td>\n",
       "      <td>0</td>\n",
       "      <td>0</td>\n",
       "      <td>0</td>\n",
       "      <td>0</td>\n",
       "      <td>0</td>\n",
       "      <td>0</td>\n",
       "      <td>...</td>\n",
       "      <td>0</td>\n",
       "      <td>0</td>\n",
       "      <td>0</td>\n",
       "      <td>0</td>\n",
       "      <td>0</td>\n",
       "      <td>0</td>\n",
       "      <td>0</td>\n",
       "      <td>0</td>\n",
       "      <td>0</td>\n",
       "      <td>0</td>\n",
       "    </tr>\n",
       "    <tr>\n",
       "      <th>18019</th>\n",
       "      <td>0</td>\n",
       "      <td>0</td>\n",
       "      <td>0</td>\n",
       "      <td>0</td>\n",
       "      <td>0</td>\n",
       "      <td>0</td>\n",
       "      <td>0</td>\n",
       "      <td>0</td>\n",
       "      <td>0</td>\n",
       "      <td>0</td>\n",
       "      <td>...</td>\n",
       "      <td>0</td>\n",
       "      <td>0</td>\n",
       "      <td>0</td>\n",
       "      <td>0</td>\n",
       "      <td>0</td>\n",
       "      <td>0</td>\n",
       "      <td>0</td>\n",
       "      <td>0</td>\n",
       "      <td>0</td>\n",
       "      <td>0</td>\n",
       "    </tr>\n",
       "    <tr>\n",
       "      <th>18020</th>\n",
       "      <td>0</td>\n",
       "      <td>0</td>\n",
       "      <td>0</td>\n",
       "      <td>0</td>\n",
       "      <td>0</td>\n",
       "      <td>0</td>\n",
       "      <td>0</td>\n",
       "      <td>0</td>\n",
       "      <td>0</td>\n",
       "      <td>0</td>\n",
       "      <td>...</td>\n",
       "      <td>0</td>\n",
       "      <td>0</td>\n",
       "      <td>0</td>\n",
       "      <td>0</td>\n",
       "      <td>0</td>\n",
       "      <td>0</td>\n",
       "      <td>0</td>\n",
       "      <td>0</td>\n",
       "      <td>0</td>\n",
       "      <td>0</td>\n",
       "    </tr>\n",
       "    <tr>\n",
       "      <th>18021</th>\n",
       "      <td>0</td>\n",
       "      <td>0</td>\n",
       "      <td>0</td>\n",
       "      <td>0</td>\n",
       "      <td>0</td>\n",
       "      <td>0</td>\n",
       "      <td>0</td>\n",
       "      <td>0</td>\n",
       "      <td>0</td>\n",
       "      <td>0</td>\n",
       "      <td>...</td>\n",
       "      <td>0</td>\n",
       "      <td>0</td>\n",
       "      <td>0</td>\n",
       "      <td>0</td>\n",
       "      <td>0</td>\n",
       "      <td>0</td>\n",
       "      <td>0</td>\n",
       "      <td>0</td>\n",
       "      <td>0</td>\n",
       "      <td>0</td>\n",
       "    </tr>\n",
       "  </tbody>\n",
       "</table>\n",
       "<p>18022 rows × 40428 columns</p>\n",
       "</div>"
      ],
      "text/plain": [
       "       0      1      2      3      4      5      6      7      8      9      \\\n",
       "0          0      0      0      0      0      0      0      0      0      0   \n",
       "1          0      0      0      0      0      0      0      0      0      0   \n",
       "2          0      0      0      0      0      0      0      0      0      0   \n",
       "3          0      1      0      0      0      0      0      0      0      0   \n",
       "4          0      0      0      0      0      0      0      0      0      0   \n",
       "...      ...    ...    ...    ...    ...    ...    ...    ...    ...    ...   \n",
       "18017      0      0      0      0      0      0      0      0      0      0   \n",
       "18018      0      0      0      0      0      0      0      0      0      0   \n",
       "18019      0      0      0      0      0      0      0      0      0      0   \n",
       "18020      0      0      0      0      0      0      0      0      0      0   \n",
       "18021      0      0      0      0      0      0      0      0      0      0   \n",
       "\n",
       "       ...  40418  40419  40420  40421  40422  40423  40424  40425  40426  \\\n",
       "0      ...      0      0      0      0      0      0      0      0      0   \n",
       "1      ...      0      0      0      0      0      0      0      0      0   \n",
       "2      ...      0      0      0      0      0      0      0      0      0   \n",
       "3      ...      0      0      0      0      0      0      0      0      0   \n",
       "4      ...      0      0      0      0      0      0      0      0      0   \n",
       "...    ...    ...    ...    ...    ...    ...    ...    ...    ...    ...   \n",
       "18017  ...      0      0      0      0      0      0      0      0      0   \n",
       "18018  ...      0      0      0      0      0      0      0      0      0   \n",
       "18019  ...      0      0      0      0      0      0      0      0      0   \n",
       "18020  ...      0      0      0      0      0      0      0      0      0   \n",
       "18021  ...      0      0      0      0      0      0      0      0      0   \n",
       "\n",
       "       40427  \n",
       "0          0  \n",
       "1          0  \n",
       "2          0  \n",
       "3          0  \n",
       "4          0  \n",
       "...      ...  \n",
       "18017      0  \n",
       "18018      0  \n",
       "18019      0  \n",
       "18020      0  \n",
       "18021      0  \n",
       "\n",
       "[18022 rows x 40428 columns]"
      ]
     },
     "execution_count": 79,
     "metadata": {},
     "output_type": "execute_result"
    }
   ],
   "source": [
    "dtree_X_train_df = pd.DataFrame(dtree_X_train)\n",
    "dtree_X_test_df = pd.DataFrame(dtree_X_test)\n",
    "dtree_X_test_df"
   ]
  },
  {
   "cell_type": "code",
   "execution_count": 80,
   "metadata": {},
   "outputs": [
    {
     "data": {
      "text/plain": [
       "DecisionTreeClassifier(ccp_alpha=0.0, class_weight=None, criterion='gini',\n",
       "                       max_depth=None, max_features=None, max_leaf_nodes=None,\n",
       "                       min_impurity_decrease=0.0, min_impurity_split=None,\n",
       "                       min_samples_leaf=10, min_samples_split=10,\n",
       "                       min_weight_fraction_leaf=0.0, presort='deprecated',\n",
       "                       random_state=42, splitter='best')"
      ]
     },
     "execution_count": 80,
     "metadata": {},
     "output_type": "execute_result"
    }
   ],
   "source": [
    "dtree = DecisionTreeClassifier(min_samples_split = 10, min_samples_leaf = 10,random_state = 42)\n",
    "\n",
    "dtree.fit(dtree_X_train_df, y_train)"
   ]
  },
  {
   "cell_type": "code",
   "execution_count": 81,
   "metadata": {},
   "outputs": [
    {
     "data": {
      "text/plain": [
       "0.9597430992074337"
      ]
     },
     "execution_count": 81,
     "metadata": {},
     "output_type": "execute_result"
    },
    {
     "data": {
      "text/plain": [
       "0.950726889357452"
      ]
     },
     "execution_count": 81,
     "metadata": {},
     "output_type": "execute_result"
    }
   ],
   "source": [
    "dtree.score(dtree_X_train_df,y_train)\n",
    "dtree.score(dtree_X_test_df,y_test)"
   ]
  },
  {
   "cell_type": "code",
   "execution_count": 90,
   "metadata": {},
   "outputs": [],
   "source": [
    "tree_prediction = dtree.predict(dtree_X_test_df)"
   ]
  },
  {
   "cell_type": "code",
   "execution_count": 91,
   "metadata": {},
   "outputs": [
    {
     "data": {
      "text/plain": [
       "numpy.ndarray"
      ]
     },
     "execution_count": 91,
     "metadata": {},
     "output_type": "execute_result"
    },
    {
     "ename": "AttributeError",
     "evalue": "'numpy.ndarray' object has no attribute 'count'",
     "output_type": "error",
     "traceback": [
      "\u001b[0;31m---------------------------------------------------------------------------\u001b[0m",
      "\u001b[0;31mAttributeError\u001b[0m                            Traceback (most recent call last)",
      "\u001b[0;32m<ipython-input-91-6c3c4faccb54>\u001b[0m in \u001b[0;36m<module>\u001b[0;34m\u001b[0m\n\u001b[1;32m      1\u001b[0m \u001b[0mtype\u001b[0m\u001b[0;34m(\u001b[0m\u001b[0mtree_prediction\u001b[0m\u001b[0;34m)\u001b[0m\u001b[0;34m\u001b[0m\u001b[0;34m\u001b[0m\u001b[0m\n\u001b[0;32m----> 2\u001b[0;31m \u001b[0mnp\u001b[0m\u001b[0;34m.\u001b[0m\u001b[0munique\u001b[0m\u001b[0;34m(\u001b[0m\u001b[0mtree_prediction\u001b[0m\u001b[0;34m)\u001b[0m\u001b[0;34m.\u001b[0m\u001b[0mcount\u001b[0m\u001b[0;34m(\u001b[0m\u001b[0;34m)\u001b[0m\u001b[0;34m\u001b[0m\u001b[0;34m\u001b[0m\u001b[0m\n\u001b[0m",
      "\u001b[0;31mAttributeError\u001b[0m: 'numpy.ndarray' object has no attribute 'count'"
     ]
    }
   ],
   "source": [
    "type(tree_prediction)\n"
   ]
  },
  {
   "cell_type": "code",
   "execution_count": 82,
   "metadata": {},
   "outputs": [],
   "source": [
    "classnames = y.map({0 : 'TIL', 1: 'Motorcycle'})\n",
    "\n",
    "export_graphviz(dtree,out_file  = \"./predict.dot\",class_names = classnames,\n",
    "                feature_names = dtree_X_train_df.columns, rounded = True,filled = True, max_depth = 6\n",
    ")"
   ]
  }
 ],
 "metadata": {
  "kernelspec": {
   "display_name": "Python 3",
   "language": "python",
   "name": "python3"
  },
  "language_info": {
   "codemirror_mode": {
    "name": "ipython",
    "version": 3
   },
   "file_extension": ".py",
   "mimetype": "text/x-python",
   "name": "python",
   "nbconvert_exporter": "python",
   "pygments_lexer": "ipython3",
   "version": "3.9.1"
  }
 },
 "nbformat": 4,
 "nbformat_minor": 4
}
